{
 "cells": [
  {
   "cell_type": "code",
   "execution_count": 1,
   "metadata": {},
   "outputs": [],
   "source": [
    "import requests\n",
    "import pandas as pd\n",
    "from bs4 import BeautifulSoup"
   ]
  },
  {
   "cell_type": "code",
   "execution_count": 2,
   "metadata": {},
   "outputs": [],
   "source": [
    "#Load url list  \n",
    "url_list = pd.read_csv('linkedin_jobpost.csv')"
   ]
  },
  {
   "cell_type": "code",
   "execution_count": 4,
   "metadata": {},
   "outputs": [],
   "source": [
    "url_list = url_list['Job Link'].tolist()"
   ]
  },
  {
   "cell_type": "code",
   "execution_count": 5,
   "metadata": {},
   "outputs": [
    {
     "data": {
      "text/plain": [
       "['https://id.linkedin.com/jobs/view/data-analyst-subscription-at-gojek-3688243716?refId=SWi9t6BvftZw9SvxjoyPZQ%3D%3D&trackingId=1si1q90vuhcsAfA7yO78mQ%3D%3D&position=1&pageNum=0&trk=public_jobs_jserp-result_search-card',\n",
       " 'https://id.linkedin.com/jobs/view/data-analyst-transport-jakarta-at-gojek-3719326779?refId=SWi9t6BvftZw9SvxjoyPZQ%3D%3D&trackingId=QNzIEe2tukHWNuY6SKvh%2BQ%3D%3D&position=2&pageNum=0&trk=public_jobs_jserp-result_search-card',\n",
       " 'https://id.linkedin.com/jobs/view/data-analyst-central-data-platform-at-gojek-3718618949?refId=SWi9t6BvftZw9SvxjoyPZQ%3D%3D&trackingId=Nm%2FdowS0WXPThOEUAoeLIA%3D%3D&position=3&pageNum=0&trk=public_jobs_jserp-result_search-card',\n",
       " 'https://id.linkedin.com/jobs/view/data-analyst-campaign-management-at-gojek-3711205462?refId=SWi9t6BvftZw9SvxjoyPZQ%3D%3D&trackingId=FAPQBIyo7g6HPj1T%2B2kHQQ%3D%3D&position=4&pageNum=0&trk=public_jobs_jserp-result_search-card',\n",
       " 'https://id.linkedin.com/jobs/view/data-analyst-rewards-at-gojek-3689664004?refId=SWi9t6BvftZw9SvxjoyPZQ%3D%3D&trackingId=DL9ocR2jKID8k60eth13XA%3D%3D&position=5&pageNum=0&trk=public_jobs_jserp-result_search-card',\n",
       " 'https://id.linkedin.com/jobs/view/data-analytics-associate-at-gravel-3718919281?refId=SWi9t6BvftZw9SvxjoyPZQ%3D%3D&trackingId=kdsTy2Vo%2F1cI%2FUyPGLkEcg%3D%3D&position=6&pageNum=0&trk=public_jobs_jserp-result_search-card',\n",
       " 'https://id.linkedin.com/jobs/view/data-analyst-at-stockbit-3710633064?refId=SWi9t6BvftZw9SvxjoyPZQ%3D%3D&trackingId=wX%2B6WIMOYH5vJdDOZuPbBg%3D%3D&position=7&pageNum=0&trk=public_jobs_jserp-result_search-card',\n",
       " 'https://id.linkedin.com/jobs/view/data-engineer-at-pt-lion-super-indo-3720303473?refId=SWi9t6BvftZw9SvxjoyPZQ%3D%3D&trackingId=IdP0A4FuptYHBc0Hf8oTKw%3D%3D&position=8&pageNum=0&trk=public_jobs_jserp-result_search-card',\n",
       " 'https://id.linkedin.com/jobs/view/data-analyst-at-traveloka-3691368179?refId=SWi9t6BvftZw9SvxjoyPZQ%3D%3D&trackingId=WvkW%2B9bNLj%2BLATvpunmCqQ%3D%3D&position=9&pageNum=0&trk=public_jobs_jserp-result_search-card',\n",
       " 'https://id.linkedin.com/jobs/view/data-analyst-at-astra-financial-indonesia-3695200806?refId=SWi9t6BvftZw9SvxjoyPZQ%3D%3D&trackingId=3p8JNYe7Jh4uN8ySjtWrmA%3D%3D&position=10&pageNum=0&trk=public_jobs_jserp-result_search-card',\n",
       " 'https://id.linkedin.com/jobs/view/bi-analyst-sql-at-atome-3728943143?refId=SWi9t6BvftZw9SvxjoyPZQ%3D%3D&trackingId=6DV%2FyszsvcYkBu6tHso20w%3D%3D&position=11&pageNum=0&trk=public_jobs_jserp-result_search-card',\n",
       " 'https://id.linkedin.com/jobs/view/junior-data-analyst-at-julo-3710633069?refId=SWi9t6BvftZw9SvxjoyPZQ%3D%3D&trackingId=3zj2gY8VFi%2B3rLfnG6F%2B1A%3D%3D&position=12&pageNum=0&trk=public_jobs_jserp-result_search-card',\n",
       " 'https://id.linkedin.com/jobs/view/data-analyst-at-htc-global-services-3728129957?refId=SWi9t6BvftZw9SvxjoyPZQ%3D%3D&trackingId=7ahubTh2D%2Bvd76sgy1tATw%3D%3D&position=13&pageNum=0&trk=public_jobs_jserp-result_search-card',\n",
       " 'https://id.linkedin.com/jobs/view/business-mis-analyst-at-pt-mandala-multifinance-tbk-3712760145?refId=SWi9t6BvftZw9SvxjoyPZQ%3D%3D&trackingId=eqzqYShOrm4vA%2FDwAjufJw%3D%3D&position=14&pageNum=0&trk=public_jobs_jserp-result_search-card',\n",
       " 'https://id.linkedin.com/jobs/view/data-analyst-at-fit-hub-3711147858?refId=SWi9t6BvftZw9SvxjoyPZQ%3D%3D&trackingId=UxtED7I8mQ0W5aeVnVu2cQ%3D%3D&position=15&pageNum=0&trk=public_jobs_jserp-result_search-card',\n",
       " 'https://id.linkedin.com/jobs/view/data-analyst-at-staffinc-group-3631617133?refId=SWi9t6BvftZw9SvxjoyPZQ%3D%3D&trackingId=fQRfXaiPl3fIb2XKg1r9AA%3D%3D&position=16&pageNum=0&trk=public_jobs_jserp-result_search-card',\n",
       " 'https://id.linkedin.com/jobs/view/data-analyst-mobility-at-gojek-3702968978?refId=SWi9t6BvftZw9SvxjoyPZQ%3D%3D&trackingId=5nzVmDWP3GvtBwvxDwRlmg%3D%3D&position=17&pageNum=0&trk=public_jobs_jserp-result_search-card',\n",
       " 'https://id.linkedin.com/jobs/view/data-analyst-at-wirehire-3722173366?refId=SWi9t6BvftZw9SvxjoyPZQ%3D%3D&trackingId=BqCdNMIQwxXMpvnjWYHcMQ%3D%3D&position=18&pageNum=0&trk=public_jobs_jserp-result_search-card',\n",
       " 'https://id.linkedin.com/jobs/view/data-analyst-at-cetta-online-class-3728603616?refId=SWi9t6BvftZw9SvxjoyPZQ%3D%3D&trackingId=%2FmRPZMSdUb16%2B7UjswfJLA%3D%3D&position=19&pageNum=0&trk=public_jobs_jserp-result_search-card',\n",
       " 'https://id.linkedin.com/jobs/view/data-analyst-lead-at-gojek-3676157950?refId=SWi9t6BvftZw9SvxjoyPZQ%3D%3D&trackingId=lWS%2B%2FlaPPp6kKdc6PEMAoQ%3D%3D&position=21&pageNum=0&trk=public_jobs_jserp-result_search-card',\n",
       " 'https://id.linkedin.com/jobs/view/data-analyst-insurance-at-traveloka-3597715701?refId=SWi9t6BvftZw9SvxjoyPZQ%3D%3D&trackingId=NmDIWcWA%2FE3LB3d%2FTyYHgg%3D%3D&position=22&pageNum=0&trk=public_jobs_jserp-result_search-card',\n",
       " 'https://id.linkedin.com/jobs/view/consumer-business-marketing-data-analyst-at-pt-bank-jago-tbk-3714444026?refId=SWi9t6BvftZw9SvxjoyPZQ%3D%3D&trackingId=V0raocjvB%2F6fVdx7JQ1dLw%3D%3D&position=23&pageNum=0&trk=public_jobs_jserp-result_search-card',\n",
       " 'https://id.linkedin.com/jobs/view/flight-data-analyst-at-traveloka-3569176363?refId=SWi9t6BvftZw9SvxjoyPZQ%3D%3D&trackingId=6L%2BRINS88ZZBZeBhP%2Bizgw%3D%3D&position=25&pageNum=0&trk=public_jobs_jserp-result_search-card',\n",
       " 'https://id.linkedin.com/jobs/view/senior-data-analyst-logistics-tech-at-byorange-3667170932?refId=Zfw%2B6s%2FJqzuF6SAFNxQ4bw%3D%3D&trackingId=BaGUJ%2B4A7PfE7pswjJcytg%3D%3D&position=1&pageNum=1&trk=public_jobs_jserp-result_search-card',\n",
       " 'https://id.linkedin.com/jobs/view/junior-business-intelligence-analyst-at-cermati-com-3726606048?refId=Zfw%2B6s%2FJqzuF6SAFNxQ4bw%3D%3D&trackingId=L9Dpg9ittXEBgye%2BpPo2gA%3D%3D&position=2&pageNum=1&trk=public_jobs_jserp-result_search-card',\n",
       " 'https://id.linkedin.com/jobs/view/data-analytics-user-platform-at-traveloka-3660664723?refId=Zfw%2B6s%2FJqzuF6SAFNxQ4bw%3D%3D&trackingId=OUJErsN5omN%2BTZDo%2BYfoUQ%3D%3D&position=3&pageNum=1&trk=public_jobs_jserp-result_search-card',\n",
       " 'https://id.linkedin.com/jobs/view/data-analyst-at-nityo-infotech-3689516407?refId=Zfw%2B6s%2FJqzuF6SAFNxQ4bw%3D%3D&trackingId=8wRnL6J2DyfVO6hDBDYXMg%3D%3D&position=4&pageNum=1&trk=public_jobs_jserp-result_search-card',\n",
       " 'https://id.linkedin.com/jobs/view/principal-data-analyst-at-gojek-3716922922?refId=Zfw%2B6s%2FJqzuF6SAFNxQ4bw%3D%3D&trackingId=tirC0I46yUCpGM%2BTLqhfTg%3D%3D&position=5&pageNum=1&trk=public_jobs_jserp-result_search-card',\n",
       " 'https://id.linkedin.com/jobs/view/data-analyst-gt-school-remote-%2430-000-year-usd-at-crossover-3710740797?refId=Zfw%2B6s%2FJqzuF6SAFNxQ4bw%3D%3D&trackingId=7xl3ZaOgZ614RaSbVGLsLA%3D%3D&position=6&pageNum=1&trk=public_jobs_jserp-result_search-card',\n",
       " 'https://id.linkedin.com/jobs/view/system-analyst-at-bank-jasa-jakarta-3723379200?refId=Zfw%2B6s%2FJqzuF6SAFNxQ4bw%3D%3D&trackingId=sUf%2BAX6kkkGdn6c6cNC3aQ%3D%3D&position=7&pageNum=1&trk=public_jobs_jserp-result_search-card',\n",
       " 'https://id.linkedin.com/jobs/view/data-engineer-at-pt-mitra-pinasthika-mustika-rent-mpm-rent-3705657345?refId=Zfw%2B6s%2FJqzuF6SAFNxQ4bw%3D%3D&trackingId=3yoKjZ9fAIPgUKFu752Nyg%3D%3D&position=8&pageNum=1&trk=public_jobs_jserp-result_search-card',\n",
       " 'https://id.linkedin.com/jobs/view/senior-data-analyst-at-amar-bank-3575812833?refId=Zfw%2B6s%2FJqzuF6SAFNxQ4bw%3D%3D&trackingId=n2vDZuYuUXckMEUVy9pRTA%3D%3D&position=9&pageNum=1&trk=public_jobs_jserp-result_search-card',\n",
       " 'https://id.linkedin.com/jobs/view/business-intelligence-analyst-intern-at-flash-coffee-3715853791?refId=Zfw%2B6s%2FJqzuF6SAFNxQ4bw%3D%3D&trackingId=72uY%2FWUWSgwmSpPMpHloVQ%3D%3D&position=10&pageNum=1&trk=public_jobs_jserp-result_search-card',\n",
       " 'https://id.linkedin.com/jobs/view/data-analyst-consumer-lending-risk-at-traveloka-3727677170?refId=Zfw%2B6s%2FJqzuF6SAFNxQ4bw%3D%3D&trackingId=8utLH93VvWoUUcYmtFpSfw%3D%3D&position=11&pageNum=1&trk=public_jobs_jserp-result_search-card',\n",
       " 'https://id.linkedin.com/jobs/view/sales-data-analyst-at-skintific-3727420465?refId=Zfw%2B6s%2FJqzuF6SAFNxQ4bw%3D%3D&trackingId=hldXzYb8ftEgzmiyRzQ6YA%3D%3D&position=12&pageNum=1&trk=public_jobs_jserp-result_search-card',\n",
       " 'https://id.linkedin.com/jobs/view/data-analyst-senior-lead-at-gojek-3676162315?refId=Zfw%2B6s%2FJqzuF6SAFNxQ4bw%3D%3D&trackingId=9ZsckjPFv1wHK3BdBmiCCQ%3D%3D&position=13&pageNum=1&trk=public_jobs_jserp-result_search-card',\n",
       " 'https://id.linkedin.com/jobs/view/senior-data-analyst-fintech-at-goto-financial-3691786923?refId=Zfw%2B6s%2FJqzuF6SAFNxQ4bw%3D%3D&trackingId=JjIKYrglECtc1wYd7yxg6g%3D%3D&position=14&pageNum=1&trk=public_jobs_jserp-result_search-card',\n",
       " 'https://id.linkedin.com/jobs/view/business-system-analyst-at-traveloka-3725775416?refId=Zfw%2B6s%2FJqzuF6SAFNxQ4bw%3D%3D&trackingId=HHjU4lod%2Bcd1CPM79SWjbg%3D%3D&position=15&pageNum=1&trk=public_jobs_jserp-result_search-card',\n",
       " 'https://id.linkedin.com/jobs/view/risk-data-analyst-infrastructure-risk-management-seabank-at-seabank-indonesia-3639848559?refId=Zfw%2B6s%2FJqzuF6SAFNxQ4bw%3D%3D&trackingId=85L7vLfldhIe6oGCYXkhDQ%3D%3D&position=16&pageNum=1&trk=public_jobs_jserp-result_search-card',\n",
       " 'https://id.linkedin.com/jobs/view/digital-analytics-consultant-indonesia-at-fifty-five-3723965979?refId=Zfw%2B6s%2FJqzuF6SAFNxQ4bw%3D%3D&trackingId=zyCZOFTyt9%2F5xvCF3e%2FTSw%3D%3D&position=17&pageNum=1&trk=public_jobs_jserp-result_search-card',\n",
       " 'https://id.linkedin.com/jobs/view/senior-data-analyst-at-julo-3726604247?refId=Zfw%2B6s%2FJqzuF6SAFNxQ4bw%3D%3D&trackingId=aoRaqZaLcX5e2w9kMOC%2Bcg%3D%3D&position=18&pageNum=1&trk=public_jobs_jserp-result_search-card',\n",
       " 'https://id.linkedin.com/jobs/view/data-analyst-data-management-function-at-mufg-3679531209?refId=Zfw%2B6s%2FJqzuF6SAFNxQ4bw%3D%3D&trackingId=APwpZIY7p06%2BCU6jlANMGQ%3D%3D&position=19&pageNum=1&trk=public_jobs_jserp-result_search-card',\n",
       " 'https://id.linkedin.com/jobs/view/data-engineer-associate-at-gravel-3718916683?refId=Zfw%2B6s%2FJqzuF6SAFNxQ4bw%3D%3D&trackingId=Oq2opsTLPfjUduB3cw3iag%3D%3D&position=20&pageNum=1&trk=public_jobs_jserp-result_search-card',\n",
       " 'https://id.linkedin.com/jobs/view/data-analyst-multinational-manufacturing-industry-at-michael-page-3575869131?refId=Zfw%2B6s%2FJqzuF6SAFNxQ4bw%3D%3D&trackingId=%2B7MBSoVhx6qH6A0rrkgBwQ%3D%3D&position=23&pageNum=1&trk=public_jobs_jserp-result_search-card',\n",
       " 'https://id.linkedin.com/jobs/view/data-engineer-at-indodana-3712665949?refId=Zfw%2B6s%2FJqzuF6SAFNxQ4bw%3D%3D&trackingId=vHkEvLTmlG1JQmWck44miA%3D%3D&position=24&pageNum=1&trk=public_jobs_jserp-result_search-card',\n",
       " 'https://id.linkedin.com/jobs/view/data-engineer-at-pt-bank-keb-hana-indonesia-3695203516?refId=Zfw%2B6s%2FJqzuF6SAFNxQ4bw%3D%3D&trackingId=%2FBat64lKEABB1r6lnynvJw%3D%3D&position=25&pageNum=1&trk=public_jobs_jserp-result_search-card']"
      ]
     },
     "execution_count": 5,
     "metadata": {},
     "output_type": "execute_result"
    }
   ],
   "source": [
    "url_list"
   ]
  },
  {
   "cell_type": "code",
   "execution_count": 7,
   "metadata": {},
   "outputs": [],
   "source": [
    "# url = \"https://data.ushja.org/awards-standings/zones.aspx?year=2021&zone=1\"\n",
    "url = \"https://id.linkedin.com/jobs/view/data-engineer-at-pt-bank-keb-hana-indonesia-3695203516?refId=Zfw%2B6s%2FJqzuF6SAFNxQ4bw%3D%3D&trackingId=%2FBat64lKEABB1r6lnynvJw%3D%3D&position=25&pageNum=1&trk=public_jobs_jserp-result_search-card\"\n",
    "\n",
    "# req = requests.get(url)\n",
    "# soup = BeautifulSoup(req.text, \"html.parser\")"
   ]
  },
  {
   "cell_type": "code",
   "execution_count": 11,
   "metadata": {},
   "outputs": [],
   "source": [
    "from selenium import webdriver\n",
    "import time\n",
    "import pandas as pd\n",
    "import time"
   ]
  },
  {
   "cell_type": "code",
   "execution_count": 12,
   "metadata": {},
   "outputs": [],
   "source": [
    "#Import Packages\n",
    "\n",
    "from selenium.webdriver.support.select import Select\n",
    "from selenium.webdriver.support.ui import WebDriverWait\n",
    "from selenium.webdriver.common.by import By\n",
    "from selenium.webdriver.common.keys import Keys\n",
    "from selenium.webdriver.support import expected_conditions as EC\n"
   ]
  },
  {
   "cell_type": "code",
   "execution_count": 13,
   "metadata": {},
   "outputs": [],
   "source": [
    "#Run the driver and open the url\n",
    "driver = webdriver.Chrome()\n",
    "driver.get(url)\n",
    "time.sleep(5)"
   ]
  },
  {
   "cell_type": "code",
   "execution_count": 67,
   "metadata": {},
   "outputs": [],
   "source": [
    "desc_info  = []\n",
    "\n",
    "desc = driver.find_elements(By.CLASS_NAME, \"description__text description__text--rich\")\n",
    "desc_info.append(desc)    \n"
   ]
  },
  {
   "cell_type": "code",
   "execution_count": 62,
   "metadata": {},
   "outputs": [
    {
     "data": {
      "text/plain": [
       "[]"
      ]
     },
     "execution_count": 62,
     "metadata": {},
     "output_type": "execute_result"
    }
   ],
   "source": [
    "desc"
   ]
  },
  {
   "cell_type": "code",
   "execution_count": 77,
   "metadata": {},
   "outputs": [
    {
     "data": {
      "text/plain": [
       "'Develop data science competencies and resources within the business for the digital business exploration of big data sets and source data as well as opening access to hidden/ unexplored data for data analytics, machine learning, and predictive analysis.'"
      ]
     },
     "execution_count": 77,
     "metadata": {},
     "output_type": "execute_result"
    }
   ],
   "source": [
    "all_li[5].text"
   ]
  },
  {
   "cell_type": "code",
   "execution_count": null,
   "metadata": {},
   "outputs": [],
   "source": []
  },
  {
   "cell_type": "code",
   "execution_count": 86,
   "metadata": {},
   "outputs": [
    {
     "name": "stdout",
     "output_type": "stream",
     "text": [
      "\n",
      "\n",
      "\n",
      "\n",
      "Responsible to support digital business to not only build data platform architecture but also to make fact-based decisions using advanced analytics, and develop predictive analytics at scale\n",
      "Develop data science competencies and resources within the business for the digital business exploration of big data sets and source data as well as opening access to hidden/ unexplored data for data analytics, machine learning, and predictive analysis.\n",
      "Lead in developing and implement data infrastructure improvement to a scalable architecture for big data analysis.\n",
      "Collaborate with product owners and engineers to address priority business metrics, provide insights, drive report enhancements and utilization, and conduct ad-hoc analyses to support decision-making.\n",
      "Bachelors in Computer Science and related fields\n",
      "Has Experience 3-5 years in Senior Data Engineering field\n",
      "Experience in leading a team of engineers; you have the ability and interest to teach other best practices and mentor less experienced engineers\n",
      "Strong sense of ownership and self-starter who is\n",
      "Target-driven and self-motivated\n",
      "Expert in SQL and high-level languages such as Python or Java\n",
      "Built and maintained data warehouses and ETL pipelines\n",
      "Advance using real-time data streaming infrastructures like Kafka, Dataflow, Spark, Hadoop, Hive, etc.\n",
      "Proficient in understanding Database (Relational & NoSQL): PostgreSQL, MySQL, Cassandra, etc.\n",
      "Understand about data warehousing and data mining concepts and Experience in using Cloud Product solutions\n",
      "Tingkat senioritas\n",
      "Senior tingkat menengah\n",
      "Jenis pekerjaan\n",
      "Penuh waktu\n",
      "Fungsi pekerjaan\n",
      "Teknologi Informasi\n",
      "Industri\n",
      "Perbankan\n",
      "LinkedIn\n",
      "© 2023\n",
      "Tentang\n",
      "Aksesibilitas\n",
      "Perjanjian Pengguna\n",
      "Kebijakan Privasi\n",
      "Kebijakan Cookie\n",
      "Kebijakan Hak Cipta\n",
      "Kebijakan Merek\n",
      "Pengaturan Tamu\n",
      "Panduan Komunitas\n",
      "Bahasa\n",
      "\n",
      "\n",
      "\n",
      "\n",
      "\n",
      "\n",
      "\n",
      "\n",
      "\n",
      "\n",
      "\n",
      "\n",
      "\n",
      "\n",
      "\n",
      "\n",
      "\n",
      "\n",
      "\n",
      "\n",
      "\n",
      "\n",
      "\n",
      "\n",
      "\n",
      "\n"
     ]
    }
   ],
   "source": [
    "all_li = driver.find_elements(By.CSS_SELECTOR, \"li\")\n",
    "jobinfo = \"\"\n",
    "\n",
    "for li in all_li:\n",
    "    text = li.text\n",
    "    jobinfo = jobinfo + text + \"\\n\"\n",
    "    print (text)\n"
   ]
  },
  {
   "cell_type": "code",
   "execution_count": 91,
   "metadata": {},
   "outputs": [
    {
     "data": {
      "text/plain": [
       "'Responsible to support digital business to not only build data platform architecture but also to make fact-based decisions using advanced analytics, and develop predictive analytics at scale\\nDevelop data science competencies and resources within the business for the digital business exploration of big data sets and source data as well as opening access to hidden/ unexplored data for data analytics, machine learning, and predictive analysis.\\nLead in developing and implement data infrastructure improvement to a scalable architecture for big data analysis.\\nCollaborate with product owners and engineers to address priority business metrics, provide insights, drive report enhancements and utilization, and conduct ad-hoc analyses to support decision-making.\\nBachelors in Computer Science and related fields\\nHas Experience 3-5 years in Senior Data Engineering field\\nExperience in leading a team of engineers; you have the ability and interest to teach other best practices and mentor less experienced engineers\\nStrong sense of ownership and self-starter who is\\nTarget-driven and self-motivated\\nExpert in SQL and high-level languages such as Python or Java\\nBuilt and maintained data warehouses and ETL pipelines\\nAdvance using real-time data streaming infrastructures like Kafka, Dataflow, Spark, Hadoop, Hive, etc.\\nProficient in understanding Database (Relational & NoSQL): PostgreSQL, MySQL, Cassandra, etc.\\nUnderstand about data warehousing and data mining concepts and Experience in using Cloud Product solutions\\nTingkat senioritas\\nSenior tingkat menengah\\nJenis pekerjaan\\nPenuh waktu\\nFungsi pekerjaan\\nTeknologi Informasi\\nIndustri\\nPerbankan\\nLinkedIn\\n© 2023\\nTentang\\nAksesibilitas\\nPerjanjian Pengguna\\nKebijakan Privasi\\nKebijakan Cookie\\nKebijakan Hak Cipta\\nKebijakan Merek\\nPengaturan Tamu\\nPanduan Komunitas\\nBahasa'"
      ]
     },
     "execution_count": 91,
     "metadata": {},
     "output_type": "execute_result"
    }
   ],
   "source": [
    "jobinfo.strip()"
   ]
  },
  {
   "cell_type": "code",
   "execution_count": 84,
   "metadata": {},
   "outputs": [
    {
     "data": {
      "text/plain": [
       "str"
      ]
     },
     "execution_count": 84,
     "metadata": {},
     "output_type": "execute_result"
    }
   ],
   "source": [
    "type(text)"
   ]
  },
  {
   "cell_type": "code",
   "execution_count": 58,
   "metadata": {},
   "outputs": [],
   "source": [
    "desc_info  = []\n",
    "\n",
    "desc = driver.find_elements(By.CSS_SELECTOR, \"ul, li\")\n",
    "desc_info.append(desc)    \n"
   ]
  },
  {
   "cell_type": "code",
   "execution_count": 46,
   "metadata": {},
   "outputs": [
    {
     "data": {
      "text/plain": [
       "[<selenium.webdriver.remote.webelement.WebElement (session=\"0a5205c39610e62b9f6fa9e8b8e76dae\", element=\"4FD69A1F44063EBAAD2DEB6D14A0EDD5_element_63\")>,\n",
       " <selenium.webdriver.remote.webelement.WebElement (session=\"0a5205c39610e62b9f6fa9e8b8e76dae\", element=\"4FD69A1F44063EBAAD2DEB6D14A0EDD5_element_64\")>,\n",
       " <selenium.webdriver.remote.webelement.WebElement (session=\"0a5205c39610e62b9f6fa9e8b8e76dae\", element=\"4FD69A1F44063EBAAD2DEB6D14A0EDD5_element_65\")>,\n",
       " <selenium.webdriver.remote.webelement.WebElement (session=\"0a5205c39610e62b9f6fa9e8b8e76dae\", element=\"4FD69A1F44063EBAAD2DEB6D14A0EDD5_element_66\")>,\n",
       " <selenium.webdriver.remote.webelement.WebElement (session=\"0a5205c39610e62b9f6fa9e8b8e76dae\", element=\"4FD69A1F44063EBAAD2DEB6D14A0EDD5_element_67\")>,\n",
       " <selenium.webdriver.remote.webelement.WebElement (session=\"0a5205c39610e62b9f6fa9e8b8e76dae\", element=\"4FD69A1F44063EBAAD2DEB6D14A0EDD5_element_68\")>,\n",
       " <selenium.webdriver.remote.webelement.WebElement (session=\"0a5205c39610e62b9f6fa9e8b8e76dae\", element=\"4FD69A1F44063EBAAD2DEB6D14A0EDD5_element_69\")>,\n",
       " <selenium.webdriver.remote.webelement.WebElement (session=\"0a5205c39610e62b9f6fa9e8b8e76dae\", element=\"4FD69A1F44063EBAAD2DEB6D14A0EDD5_element_70\")>,\n",
       " <selenium.webdriver.remote.webelement.WebElement (session=\"0a5205c39610e62b9f6fa9e8b8e76dae\", element=\"4FD69A1F44063EBAAD2DEB6D14A0EDD5_element_71\")>,\n",
       " <selenium.webdriver.remote.webelement.WebElement (session=\"0a5205c39610e62b9f6fa9e8b8e76dae\", element=\"4FD69A1F44063EBAAD2DEB6D14A0EDD5_element_72\")>,\n",
       " <selenium.webdriver.remote.webelement.WebElement (session=\"0a5205c39610e62b9f6fa9e8b8e76dae\", element=\"4FD69A1F44063EBAAD2DEB6D14A0EDD5_element_73\")>,\n",
       " <selenium.webdriver.remote.webelement.WebElement (session=\"0a5205c39610e62b9f6fa9e8b8e76dae\", element=\"4FD69A1F44063EBAAD2DEB6D14A0EDD5_element_74\")>,\n",
       " <selenium.webdriver.remote.webelement.WebElement (session=\"0a5205c39610e62b9f6fa9e8b8e76dae\", element=\"4FD69A1F44063EBAAD2DEB6D14A0EDD5_element_75\")>,\n",
       " <selenium.webdriver.remote.webelement.WebElement (session=\"0a5205c39610e62b9f6fa9e8b8e76dae\", element=\"4FD69A1F44063EBAAD2DEB6D14A0EDD5_element_76\")>,\n",
       " <selenium.webdriver.remote.webelement.WebElement (session=\"0a5205c39610e62b9f6fa9e8b8e76dae\", element=\"4FD69A1F44063EBAAD2DEB6D14A0EDD5_element_77\")>,\n",
       " <selenium.webdriver.remote.webelement.WebElement (session=\"0a5205c39610e62b9f6fa9e8b8e76dae\", element=\"4FD69A1F44063EBAAD2DEB6D14A0EDD5_element_78\")>,\n",
       " <selenium.webdriver.remote.webelement.WebElement (session=\"0a5205c39610e62b9f6fa9e8b8e76dae\", element=\"4FD69A1F44063EBAAD2DEB6D14A0EDD5_element_79\")>,\n",
       " <selenium.webdriver.remote.webelement.WebElement (session=\"0a5205c39610e62b9f6fa9e8b8e76dae\", element=\"4FD69A1F44063EBAAD2DEB6D14A0EDD5_element_80\")>,\n",
       " <selenium.webdriver.remote.webelement.WebElement (session=\"0a5205c39610e62b9f6fa9e8b8e76dae\", element=\"4FD69A1F44063EBAAD2DEB6D14A0EDD5_element_81\")>,\n",
       " <selenium.webdriver.remote.webelement.WebElement (session=\"0a5205c39610e62b9f6fa9e8b8e76dae\", element=\"4FD69A1F44063EBAAD2DEB6D14A0EDD5_element_82\")>,\n",
       " <selenium.webdriver.remote.webelement.WebElement (session=\"0a5205c39610e62b9f6fa9e8b8e76dae\", element=\"4FD69A1F44063EBAAD2DEB6D14A0EDD5_element_83\")>,\n",
       " <selenium.webdriver.remote.webelement.WebElement (session=\"0a5205c39610e62b9f6fa9e8b8e76dae\", element=\"4FD69A1F44063EBAAD2DEB6D14A0EDD5_element_84\")>,\n",
       " <selenium.webdriver.remote.webelement.WebElement (session=\"0a5205c39610e62b9f6fa9e8b8e76dae\", element=\"4FD69A1F44063EBAAD2DEB6D14A0EDD5_element_85\")>,\n",
       " <selenium.webdriver.remote.webelement.WebElement (session=\"0a5205c39610e62b9f6fa9e8b8e76dae\", element=\"4FD69A1F44063EBAAD2DEB6D14A0EDD5_element_86\")>,\n",
       " <selenium.webdriver.remote.webelement.WebElement (session=\"0a5205c39610e62b9f6fa9e8b8e76dae\", element=\"4FD69A1F44063EBAAD2DEB6D14A0EDD5_element_87\")>,\n",
       " <selenium.webdriver.remote.webelement.WebElement (session=\"0a5205c39610e62b9f6fa9e8b8e76dae\", element=\"4FD69A1F44063EBAAD2DEB6D14A0EDD5_element_88\")>,\n",
       " <selenium.webdriver.remote.webelement.WebElement (session=\"0a5205c39610e62b9f6fa9e8b8e76dae\", element=\"4FD69A1F44063EBAAD2DEB6D14A0EDD5_element_89\")>,\n",
       " <selenium.webdriver.remote.webelement.WebElement (session=\"0a5205c39610e62b9f6fa9e8b8e76dae\", element=\"4FD69A1F44063EBAAD2DEB6D14A0EDD5_element_90\")>,\n",
       " <selenium.webdriver.remote.webelement.WebElement (session=\"0a5205c39610e62b9f6fa9e8b8e76dae\", element=\"4FD69A1F44063EBAAD2DEB6D14A0EDD5_element_26\")>,\n",
       " <selenium.webdriver.remote.webelement.WebElement (session=\"0a5205c39610e62b9f6fa9e8b8e76dae\", element=\"4FD69A1F44063EBAAD2DEB6D14A0EDD5_element_91\")>,\n",
       " <selenium.webdriver.remote.webelement.WebElement (session=\"0a5205c39610e62b9f6fa9e8b8e76dae\", element=\"4FD69A1F44063EBAAD2DEB6D14A0EDD5_element_92\")>,\n",
       " <selenium.webdriver.remote.webelement.WebElement (session=\"0a5205c39610e62b9f6fa9e8b8e76dae\", element=\"4FD69A1F44063EBAAD2DEB6D14A0EDD5_element_93\")>,\n",
       " <selenium.webdriver.remote.webelement.WebElement (session=\"0a5205c39610e62b9f6fa9e8b8e76dae\", element=\"4FD69A1F44063EBAAD2DEB6D14A0EDD5_element_94\")>,\n",
       " <selenium.webdriver.remote.webelement.WebElement (session=\"0a5205c39610e62b9f6fa9e8b8e76dae\", element=\"4FD69A1F44063EBAAD2DEB6D14A0EDD5_element_95\")>,\n",
       " <selenium.webdriver.remote.webelement.WebElement (session=\"0a5205c39610e62b9f6fa9e8b8e76dae\", element=\"4FD69A1F44063EBAAD2DEB6D14A0EDD5_element_96\")>,\n",
       " <selenium.webdriver.remote.webelement.WebElement (session=\"0a5205c39610e62b9f6fa9e8b8e76dae\", element=\"4FD69A1F44063EBAAD2DEB6D14A0EDD5_element_97\")>,\n",
       " <selenium.webdriver.remote.webelement.WebElement (session=\"0a5205c39610e62b9f6fa9e8b8e76dae\", element=\"4FD69A1F44063EBAAD2DEB6D14A0EDD5_element_98\")>,\n",
       " <selenium.webdriver.remote.webelement.WebElement (session=\"0a5205c39610e62b9f6fa9e8b8e76dae\", element=\"4FD69A1F44063EBAAD2DEB6D14A0EDD5_element_99\")>,\n",
       " <selenium.webdriver.remote.webelement.WebElement (session=\"0a5205c39610e62b9f6fa9e8b8e76dae\", element=\"4FD69A1F44063EBAAD2DEB6D14A0EDD5_element_100\")>,\n",
       " <selenium.webdriver.remote.webelement.WebElement (session=\"0a5205c39610e62b9f6fa9e8b8e76dae\", element=\"4FD69A1F44063EBAAD2DEB6D14A0EDD5_element_101\")>,\n",
       " <selenium.webdriver.remote.webelement.WebElement (session=\"0a5205c39610e62b9f6fa9e8b8e76dae\", element=\"4FD69A1F44063EBAAD2DEB6D14A0EDD5_element_102\")>,\n",
       " <selenium.webdriver.remote.webelement.WebElement (session=\"0a5205c39610e62b9f6fa9e8b8e76dae\", element=\"4FD69A1F44063EBAAD2DEB6D14A0EDD5_element_103\")>,\n",
       " <selenium.webdriver.remote.webelement.WebElement (session=\"0a5205c39610e62b9f6fa9e8b8e76dae\", element=\"4FD69A1F44063EBAAD2DEB6D14A0EDD5_element_104\")>,\n",
       " <selenium.webdriver.remote.webelement.WebElement (session=\"0a5205c39610e62b9f6fa9e8b8e76dae\", element=\"4FD69A1F44063EBAAD2DEB6D14A0EDD5_element_105\")>,\n",
       " <selenium.webdriver.remote.webelement.WebElement (session=\"0a5205c39610e62b9f6fa9e8b8e76dae\", element=\"4FD69A1F44063EBAAD2DEB6D14A0EDD5_element_106\")>,\n",
       " <selenium.webdriver.remote.webelement.WebElement (session=\"0a5205c39610e62b9f6fa9e8b8e76dae\", element=\"4FD69A1F44063EBAAD2DEB6D14A0EDD5_element_107\")>,\n",
       " <selenium.webdriver.remote.webelement.WebElement (session=\"0a5205c39610e62b9f6fa9e8b8e76dae\", element=\"4FD69A1F44063EBAAD2DEB6D14A0EDD5_element_108\")>,\n",
       " <selenium.webdriver.remote.webelement.WebElement (session=\"0a5205c39610e62b9f6fa9e8b8e76dae\", element=\"4FD69A1F44063EBAAD2DEB6D14A0EDD5_element_109\")>,\n",
       " <selenium.webdriver.remote.webelement.WebElement (session=\"0a5205c39610e62b9f6fa9e8b8e76dae\", element=\"4FD69A1F44063EBAAD2DEB6D14A0EDD5_element_110\")>,\n",
       " <selenium.webdriver.remote.webelement.WebElement (session=\"0a5205c39610e62b9f6fa9e8b8e76dae\", element=\"4FD69A1F44063EBAAD2DEB6D14A0EDD5_element_111\")>,\n",
       " <selenium.webdriver.remote.webelement.WebElement (session=\"0a5205c39610e62b9f6fa9e8b8e76dae\", element=\"4FD69A1F44063EBAAD2DEB6D14A0EDD5_element_112\")>,\n",
       " <selenium.webdriver.remote.webelement.WebElement (session=\"0a5205c39610e62b9f6fa9e8b8e76dae\", element=\"4FD69A1F44063EBAAD2DEB6D14A0EDD5_element_113\")>,\n",
       " <selenium.webdriver.remote.webelement.WebElement (session=\"0a5205c39610e62b9f6fa9e8b8e76dae\", element=\"4FD69A1F44063EBAAD2DEB6D14A0EDD5_element_114\")>,\n",
       " <selenium.webdriver.remote.webelement.WebElement (session=\"0a5205c39610e62b9f6fa9e8b8e76dae\", element=\"4FD69A1F44063EBAAD2DEB6D14A0EDD5_element_115\")>,\n",
       " <selenium.webdriver.remote.webelement.WebElement (session=\"0a5205c39610e62b9f6fa9e8b8e76dae\", element=\"4FD69A1F44063EBAAD2DEB6D14A0EDD5_element_116\")>,\n",
       " <selenium.webdriver.remote.webelement.WebElement (session=\"0a5205c39610e62b9f6fa9e8b8e76dae\", element=\"4FD69A1F44063EBAAD2DEB6D14A0EDD5_element_117\")>,\n",
       " <selenium.webdriver.remote.webelement.WebElement (session=\"0a5205c39610e62b9f6fa9e8b8e76dae\", element=\"4FD69A1F44063EBAAD2DEB6D14A0EDD5_element_118\")>,\n",
       " <selenium.webdriver.remote.webelement.WebElement (session=\"0a5205c39610e62b9f6fa9e8b8e76dae\", element=\"4FD69A1F44063EBAAD2DEB6D14A0EDD5_element_119\")>,\n",
       " <selenium.webdriver.remote.webelement.WebElement (session=\"0a5205c39610e62b9f6fa9e8b8e76dae\", element=\"4FD69A1F44063EBAAD2DEB6D14A0EDD5_element_120\")>,\n",
       " <selenium.webdriver.remote.webelement.WebElement (session=\"0a5205c39610e62b9f6fa9e8b8e76dae\", element=\"4FD69A1F44063EBAAD2DEB6D14A0EDD5_element_121\")>,\n",
       " <selenium.webdriver.remote.webelement.WebElement (session=\"0a5205c39610e62b9f6fa9e8b8e76dae\", element=\"4FD69A1F44063EBAAD2DEB6D14A0EDD5_element_122\")>,\n",
       " <selenium.webdriver.remote.webelement.WebElement (session=\"0a5205c39610e62b9f6fa9e8b8e76dae\", element=\"4FD69A1F44063EBAAD2DEB6D14A0EDD5_element_123\")>,\n",
       " <selenium.webdriver.remote.webelement.WebElement (session=\"0a5205c39610e62b9f6fa9e8b8e76dae\", element=\"4FD69A1F44063EBAAD2DEB6D14A0EDD5_element_124\")>,\n",
       " <selenium.webdriver.remote.webelement.WebElement (session=\"0a5205c39610e62b9f6fa9e8b8e76dae\", element=\"4FD69A1F44063EBAAD2DEB6D14A0EDD5_element_125\")>,\n",
       " <selenium.webdriver.remote.webelement.WebElement (session=\"0a5205c39610e62b9f6fa9e8b8e76dae\", element=\"4FD69A1F44063EBAAD2DEB6D14A0EDD5_element_126\")>,\n",
       " <selenium.webdriver.remote.webelement.WebElement (session=\"0a5205c39610e62b9f6fa9e8b8e76dae\", element=\"4FD69A1F44063EBAAD2DEB6D14A0EDD5_element_127\")>,\n",
       " <selenium.webdriver.remote.webelement.WebElement (session=\"0a5205c39610e62b9f6fa9e8b8e76dae\", element=\"4FD69A1F44063EBAAD2DEB6D14A0EDD5_element_128\")>,\n",
       " <selenium.webdriver.remote.webelement.WebElement (session=\"0a5205c39610e62b9f6fa9e8b8e76dae\", element=\"4FD69A1F44063EBAAD2DEB6D14A0EDD5_element_129\")>]"
      ]
     },
     "execution_count": 46,
     "metadata": {},
     "output_type": "execute_result"
    }
   ],
   "source": [
    "desc"
   ]
  },
  {
   "cell_type": "code",
   "execution_count": null,
   "metadata": {},
   "outputs": [],
   "source": [
    "description__text description__text--rich"
   ]
  },
  {
   "cell_type": "code",
   "execution_count": null,
   "metadata": {},
   "outputs": [],
   "source": [
    "\n",
    "\n",
    "# url = \"https://data.ushja.org/awards-standings/zones.aspx?year=2021&zone=1\"\n",
    "# req = requests.get(url)\n",
    "# soup = BeautifulSoup(req.text, \"html.parser\")\n",
    "\n",
    "# # get all links\n",
    "# url_list = []\n",
    "# for a in soup.find(\"div\", class_=\"contentSection\").find_all(\"a\"):\n",
    "#     url_list.append(a[\"href\"].replace(\"§\", \"&sect\"))\n",
    "\n",
    "# get all data from URLs\n",
    "all_data = []\n",
    "for url in url_list:\n",
    "    print(url)\n",
    "\n",
    "    req = requests.get(url)\n",
    "    soup = BeautifulSoup(req.text, \"html.parser\")\n",
    "\n",
    "    h2 = soup.h2\n",
    "    sub = h2.find_next(\"p\")\n",
    "\n",
    "    for tr in soup.select(\"tr:has(td)\"):\n",
    "        all_data.append(\n",
    "            [\n",
    "                h2.get_text(strip=True),\n",
    "                sub.get_text(strip=True),\n",
    "                *[td.get_text(strip=True) for td in tr.select(\"td\")],\n",
    "            ]\n",
    "        )\n",
    "\n",
    "# save data to CSV\n",
    "df = pd.DataFrame(\n",
    "    all_data,\n",
    "    columns=[\n",
    "        \"title\",\n",
    "        \"sub_title\",\n",
    "        \"Rank\",\n",
    "        \"Horse / Owner\",\n",
    "        \"Points\",\n",
    "        \"Total Comps\",\n",
    "    ],\n",
    ")\n",
    "print(df)\n",
    "df.to_csv(\"data.csv\", index=None)"
   ]
  }
 ],
 "metadata": {
  "kernelspec": {
   "display_name": ".venv",
   "language": "python",
   "name": "python3"
  },
  "language_info": {
   "codemirror_mode": {
    "name": "ipython",
    "version": 3
   },
   "file_extension": ".py",
   "mimetype": "text/x-python",
   "name": "python",
   "nbconvert_exporter": "python",
   "pygments_lexer": "ipython3",
   "version": "3.11.4"
  },
  "orig_nbformat": 4
 },
 "nbformat": 4,
 "nbformat_minor": 2
}
