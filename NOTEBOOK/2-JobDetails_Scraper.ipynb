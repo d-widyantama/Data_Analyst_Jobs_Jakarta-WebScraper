{
 "cells": [
  {
   "cell_type": "markdown",
   "metadata": {},
   "source": [
    "Overview \n",
    "\n",
    "1. [Import Libraries](#Import-Libraries)\n",
    "2. [Extracting Job Details](#2-Extracting-Job-Details)"
   ]
  },
  {
   "cell_type": "markdown",
   "metadata": {},
   "source": [
    "TO DO LIST:\n",
    "- [x] Add a function to extract the job details from the job description\n",
    "- [x] Add function to scroll through links\n",
    "- [x] Add function to extract the job info (fulltime, parttime, etc.)\n",
    "- [x] Add function to extract the job title\n",
    "- [x] Add function to extract the job location\n",
    "- [ ] Add function to extract the job description\n",
    "- [x] COmbine data with existing job post list\n"
   ]
  },
  {
   "cell_type": "code",
   "execution_count": null,
   "metadata": {},
   "outputs": [],
   "source": []
  },
  {
   "cell_type": "markdown",
   "metadata": {},
   "source": [
    "# 1. Import Libraries & Load Target URL for Scraping"
   ]
  },
  {
   "cell_type": "code",
   "execution_count": 1,
   "metadata": {},
   "outputs": [],
   "source": [
    "import requests\n",
    "import pandas as pd\n",
    "from bs4 import BeautifulSoup\n",
    "import regex as re"
   ]
  },
  {
   "cell_type": "code",
   "execution_count": 2,
   "metadata": {},
   "outputs": [],
   "source": [
    "from selenium import webdriver\n",
    "import time\n",
    "import pandas as pd\n",
    "import time"
   ]
  },
  {
   "cell_type": "code",
   "execution_count": 27,
   "metadata": {},
   "outputs": [],
   "source": [
    "#Import Packages\n",
    "\n",
    "from selenium.webdriver.support.select import Select\n",
    "from selenium.webdriver.support.ui import WebDriverWait\n",
    "from selenium.webdriver.common.by import By\n",
    "from selenium.common.exceptions import NoSuchElementException\n",
    "from selenium.webdriver.common.keys import Keys\n",
    "from selenium.webdriver.support import expected_conditions as EC\n"
   ]
  },
  {
   "cell_type": "code",
   "execution_count": 4,
   "metadata": {},
   "outputs": [],
   "source": [
    "#Load url list  \n",
    "url_list = pd.read_csv('linkedin_jobpost.csv')\n",
    "url_list = url_list['Job Link'].tolist()"
   ]
  },
  {
   "cell_type": "code",
   "execution_count": 5,
   "metadata": {},
   "outputs": [],
   "source": [
    "# url = \"https://id.linkedin.com/jobs/view/data-engineer-at-pt-bank-keb-hana-indonesia-3695203516?refId=Zfw%2B6s%2FJqzuF6SAFNxQ4bw%3D%3D&trackingId=%2FBat64lKEABB1r6lnynvJw%3D%3D&position=25&pageNum=1&trk=public_jobs_jserp-result_search-card\"\n",
    "url = \"https://id.linkedin.com/jobs/data-analyst-jobs?position=1&pageNum=0\"\n",
    "# req = requests.get(url)\n",
    "# soup = BeautifulSoup(req.text, \"html.parser\")"
   ]
  },
  {
   "cell_type": "code",
   "execution_count": 6,
   "metadata": {},
   "outputs": [],
   "source": [
    "#Run the driver and open the url\n",
    "driver = webdriver.Chrome()\n",
    "driver.get(url)\n",
    "time.sleep(5)"
   ]
  },
  {
   "cell_type": "code",
   "execution_count": 7,
   "metadata": {},
   "outputs": [],
   "source": [
    "desc_info  = []\n",
    "\n",
    "desc = driver.find_elements(By.CLASS_NAME, \"description__text description__text--rich\")\n",
    "desc_info.append(desc)    \n"
   ]
  },
  {
   "cell_type": "code",
   "execution_count": 8,
   "metadata": {},
   "outputs": [],
   "source": [
    "# all_li = driver.find_elements(By.CSS_SELECTOR, \"li\")\n",
    "# jobinfo = \"\"\n",
    "\n",
    "# for li in all_li:\n",
    "#     text = li.text\n",
    "#     jobinfo = jobinfo + text + \"\\n\"\n",
    "#     print (text)"
   ]
  },
  {
   "cell_type": "markdown",
   "metadata": {},
   "source": [
    "# 2. Extracting Job Details"
   ]
  },
  {
   "cell_type": "code",
   "execution_count": 9,
   "metadata": {},
   "outputs": [],
   "source": [
    "# jobinfo.strip()"
   ]
  },
  {
   "cell_type": "code",
   "execution_count": 25,
   "metadata": {},
   "outputs": [],
   "source": [
    "\n",
    "# jobpost_id = []\n",
    "\n",
    "company_list = []\n",
    "job_list = []\n",
    "location_list = []\n",
    "\n",
    "job_level = []\n",
    "job_type = []\n",
    "job_function = []\n",
    "industry = []\n",
    "job_description = []\n",
    "\n",
    "def transform():\n",
    "    global n\n",
    "    \n",
    "    for job_url in url_list:\n",
    "        driver.get(job_url)\n",
    "        time.sleep(5)\n",
    "        try:\n",
    "            #Extract Job info from title using regex\n",
    "            company_name = re.findall(r'(.*) membuka lowongan', driver.title)\n",
    "            company_list.append(company_name)\n",
    "            job_name = re.findall(r' lowongan (.*) di', driver.title)\n",
    "            job_list.append(job_name)\n",
    "            location = re.findall(r' di (.*) \\|', driver.title)\n",
    "            location_list.append(location)\n",
    "\n",
    "                        \n",
    "            \n",
    "            #Extract job level from the element\n",
    "            info_element_list = driver.find_elements(By.CLASS_NAME, \"description__job-criteria-item\")\n",
    "            for i in range(len(info_element_list)):\n",
    "                job_level.append(info_element_list[0].text.replace(\"Tingkat senioritas\\n\", \"\"))\n",
    "                job_type.append(info_element_list[1].text.replace(\"Jenis pekerjaan\\n\", \"\"))\n",
    "                job_function.append(info_element_list[2].text.replace(\"Fungsi pekerjaan\\n\", \"\"))\n",
    "                industry.append(info_element_list[3].text.replace(\"Industri\\n\", \"\"))\n",
    "            \n",
    "            jd_path = '//*[@id=\"main-content\"]/section[1]/div/div/section[1]/div/div/section/div'\n",
    "            jd0 = driver.find_element(By.XPATH, jd_path).get_attribute('innerText')\n",
    "            job_description.append(jd0)\n",
    "                \n",
    "            # all_li = driver.find_elements(By.CSS_SELECTOR, \"li\")\n",
    "            # jobinfo = \"\"\n",
    "\n",
    "            # for li in all_li:\n",
    "            #     text = li.text\n",
    "            #     jobinfo = jobinfo + text + \"\\n\"\n",
    "            #     print (text)\n",
    "            # job_description.append(jobinfo.strip())\n",
    "            # # level = driver.find_elements(By.CLASS_NAME, \"description__job-criteria-text description__job-criteria-text--criteria\").text\n",
    "            # # job_level.append(level)    \n",
    "            # #Extract company name from the element\n",
    "        except IndexError:\n",
    "            job_level.append(None)\n",
    "            print(\"DONE\")\n",
    "        except NoSuchElementException:\n",
    "            jd0 = None\n",
    "            print(\"DONE\")\n",
    "    # return company_list, job_list, location_list, job_level, job_type, job_function, industry, job_description\n",
    "    # return job_title, company_name, location, job_description      \n",
    "        "
   ]
  },
  {
   "cell_type": "code",
   "execution_count": 28,
   "metadata": {},
   "outputs": [
    {
     "ename": "NoSuchWindowException",
     "evalue": "Message: no such window: target window already closed\nfrom unknown error: web view not found\n  (Session info: chrome=117.0.5938.132)\nStacktrace:\n0   chromedriver                        0x0000000104d9ed98 chromedriver + 4337048\n1   chromedriver                        0x0000000104d96e14 chromedriver + 4304404\n2   chromedriver                        0x00000001049c3a5c chromedriver + 293468\n3   chromedriver                        0x000000010499c6c0 chromedriver + 132800\n4   chromedriver                        0x0000000104a3004c chromedriver + 737356\n5   chromedriver                        0x0000000104a43198 chromedriver + 815512\n6   chromedriver                        0x00000001049fca5c chromedriver + 526940\n7   chromedriver                        0x00000001049fd908 chromedriver + 530696\n8   chromedriver                        0x0000000104d64de4 chromedriver + 4099556\n9   chromedriver                        0x0000000104d692a0 chromedriver + 4117152\n10  chromedriver                        0x0000000104d6f52c chromedriver + 4142380\n11  chromedriver                        0x0000000104d69da0 chromedriver + 4119968\n12  chromedriver                        0x0000000104d41a74 chromedriver + 3955316\n13  chromedriver                        0x0000000104d86a48 chromedriver + 4237896\n14  chromedriver                        0x0000000104d86bc4 chromedriver + 4238276\n15  chromedriver                        0x0000000104d96a8c chromedriver + 4303500\n16  libsystem_pthread.dylib             0x00000001a5a37fa8 _pthread_start + 148\n17  libsystem_pthread.dylib             0x00000001a5a32da0 thread_start + 8\n",
     "output_type": "error",
     "traceback": [
      "\u001b[0;31m---------------------------------------------------------------------------\u001b[0m",
      "\u001b[0;31mNoSuchWindowException\u001b[0m                     Traceback (most recent call last)",
      "\u001b[1;32m/Users/Dwika/My Projects/Modul 3 Purwadhika/_PORTO3-WebScraper/Data_Analyst_Salary-WebScraper/NOTEBOOK/2-JobDetailsScraper.ipynb Cell 15\u001b[0m line \u001b[0;36m1\n\u001b[0;32m----> <a href='vscode-notebook-cell:/Users/Dwika/My%20Projects/Modul%203%20Purwadhika/_PORTO3-WebScraper/Data_Analyst_Salary-WebScraper/NOTEBOOK/2-JobDetailsScraper.ipynb#X20sZmlsZQ%3D%3D?line=0'>1</a>\u001b[0m transform()\n",
      "\u001b[1;32m/Users/Dwika/My Projects/Modul 3 Purwadhika/_PORTO3-WebScraper/Data_Analyst_Salary-WebScraper/NOTEBOOK/2-JobDetailsScraper.ipynb Cell 15\u001b[0m line \u001b[0;36m1\n\u001b[1;32m     <a href='vscode-notebook-cell:/Users/Dwika/My%20Projects/Modul%203%20Purwadhika/_PORTO3-WebScraper/Data_Analyst_Salary-WebScraper/NOTEBOOK/2-JobDetailsScraper.ipynb#X20sZmlsZQ%3D%3D?line=13'>14</a>\u001b[0m \u001b[39mglobal\u001b[39;00m n\n\u001b[1;32m     <a href='vscode-notebook-cell:/Users/Dwika/My%20Projects/Modul%203%20Purwadhika/_PORTO3-WebScraper/Data_Analyst_Salary-WebScraper/NOTEBOOK/2-JobDetailsScraper.ipynb#X20sZmlsZQ%3D%3D?line=15'>16</a>\u001b[0m \u001b[39mfor\u001b[39;00m job_url \u001b[39min\u001b[39;00m url_list:\n\u001b[0;32m---> <a href='vscode-notebook-cell:/Users/Dwika/My%20Projects/Modul%203%20Purwadhika/_PORTO3-WebScraper/Data_Analyst_Salary-WebScraper/NOTEBOOK/2-JobDetailsScraper.ipynb#X20sZmlsZQ%3D%3D?line=16'>17</a>\u001b[0m     driver\u001b[39m.\u001b[39;49mget(job_url)\n\u001b[1;32m     <a href='vscode-notebook-cell:/Users/Dwika/My%20Projects/Modul%203%20Purwadhika/_PORTO3-WebScraper/Data_Analyst_Salary-WebScraper/NOTEBOOK/2-JobDetailsScraper.ipynb#X20sZmlsZQ%3D%3D?line=17'>18</a>\u001b[0m     time\u001b[39m.\u001b[39msleep(\u001b[39m5\u001b[39m)\n\u001b[1;32m     <a href='vscode-notebook-cell:/Users/Dwika/My%20Projects/Modul%203%20Purwadhika/_PORTO3-WebScraper/Data_Analyst_Salary-WebScraper/NOTEBOOK/2-JobDetailsScraper.ipynb#X20sZmlsZQ%3D%3D?line=18'>19</a>\u001b[0m     \u001b[39mtry\u001b[39;00m:\n\u001b[1;32m     <a href='vscode-notebook-cell:/Users/Dwika/My%20Projects/Modul%203%20Purwadhika/_PORTO3-WebScraper/Data_Analyst_Salary-WebScraper/NOTEBOOK/2-JobDetailsScraper.ipynb#X20sZmlsZQ%3D%3D?line=19'>20</a>\u001b[0m         \u001b[39m#Extract Job info from title using regex\u001b[39;00m\n",
      "File \u001b[0;32m~/My Projects/.venv/lib/python3.11/site-packages/selenium/webdriver/remote/webdriver.py:353\u001b[0m, in \u001b[0;36mWebDriver.get\u001b[0;34m(self, url)\u001b[0m\n\u001b[1;32m    351\u001b[0m \u001b[39mdef\u001b[39;00m \u001b[39mget\u001b[39m(\u001b[39mself\u001b[39m, url: \u001b[39mstr\u001b[39m) \u001b[39m-\u001b[39m\u001b[39m>\u001b[39m \u001b[39mNone\u001b[39;00m:\n\u001b[1;32m    352\u001b[0m \u001b[39m    \u001b[39m\u001b[39m\"\"\"Loads a web page in the current browser session.\"\"\"\u001b[39;00m\n\u001b[0;32m--> 353\u001b[0m     \u001b[39mself\u001b[39;49m\u001b[39m.\u001b[39;49mexecute(Command\u001b[39m.\u001b[39;49mGET, {\u001b[39m\"\u001b[39;49m\u001b[39murl\u001b[39;49m\u001b[39m\"\u001b[39;49m: url})\n",
      "File \u001b[0;32m~/My Projects/.venv/lib/python3.11/site-packages/selenium/webdriver/remote/webdriver.py:344\u001b[0m, in \u001b[0;36mWebDriver.execute\u001b[0;34m(self, driver_command, params)\u001b[0m\n\u001b[1;32m    342\u001b[0m response \u001b[39m=\u001b[39m \u001b[39mself\u001b[39m\u001b[39m.\u001b[39mcommand_executor\u001b[39m.\u001b[39mexecute(driver_command, params)\n\u001b[1;32m    343\u001b[0m \u001b[39mif\u001b[39;00m response:\n\u001b[0;32m--> 344\u001b[0m     \u001b[39mself\u001b[39;49m\u001b[39m.\u001b[39;49merror_handler\u001b[39m.\u001b[39;49mcheck_response(response)\n\u001b[1;32m    345\u001b[0m     response[\u001b[39m\"\u001b[39m\u001b[39mvalue\u001b[39m\u001b[39m\"\u001b[39m] \u001b[39m=\u001b[39m \u001b[39mself\u001b[39m\u001b[39m.\u001b[39m_unwrap_value(response\u001b[39m.\u001b[39mget(\u001b[39m\"\u001b[39m\u001b[39mvalue\u001b[39m\u001b[39m\"\u001b[39m, \u001b[39mNone\u001b[39;00m))\n\u001b[1;32m    346\u001b[0m     \u001b[39mreturn\u001b[39;00m response\n",
      "File \u001b[0;32m~/My Projects/.venv/lib/python3.11/site-packages/selenium/webdriver/remote/errorhandler.py:229\u001b[0m, in \u001b[0;36mErrorHandler.check_response\u001b[0;34m(self, response)\u001b[0m\n\u001b[1;32m    227\u001b[0m         alert_text \u001b[39m=\u001b[39m value[\u001b[39m\"\u001b[39m\u001b[39malert\u001b[39m\u001b[39m\"\u001b[39m]\u001b[39m.\u001b[39mget(\u001b[39m\"\u001b[39m\u001b[39mtext\u001b[39m\u001b[39m\"\u001b[39m)\n\u001b[1;32m    228\u001b[0m     \u001b[39mraise\u001b[39;00m exception_class(message, screen, stacktrace, alert_text)  \u001b[39m# type: ignore[call-arg]  # mypy is not smart enough here\u001b[39;00m\n\u001b[0;32m--> 229\u001b[0m \u001b[39mraise\u001b[39;00m exception_class(message, screen, stacktrace)\n",
      "\u001b[0;31mNoSuchWindowException\u001b[0m: Message: no such window: target window already closed\nfrom unknown error: web view not found\n  (Session info: chrome=117.0.5938.132)\nStacktrace:\n0   chromedriver                        0x0000000104d9ed98 chromedriver + 4337048\n1   chromedriver                        0x0000000104d96e14 chromedriver + 4304404\n2   chromedriver                        0x00000001049c3a5c chromedriver + 293468\n3   chromedriver                        0x000000010499c6c0 chromedriver + 132800\n4   chromedriver                        0x0000000104a3004c chromedriver + 737356\n5   chromedriver                        0x0000000104a43198 chromedriver + 815512\n6   chromedriver                        0x00000001049fca5c chromedriver + 526940\n7   chromedriver                        0x00000001049fd908 chromedriver + 530696\n8   chromedriver                        0x0000000104d64de4 chromedriver + 4099556\n9   chromedriver                        0x0000000104d692a0 chromedriver + 4117152\n10  chromedriver                        0x0000000104d6f52c chromedriver + 4142380\n11  chromedriver                        0x0000000104d69da0 chromedriver + 4119968\n12  chromedriver                        0x0000000104d41a74 chromedriver + 3955316\n13  chromedriver                        0x0000000104d86a48 chromedriver + 4237896\n14  chromedriver                        0x0000000104d86bc4 chromedriver + 4238276\n15  chromedriver                        0x0000000104d96a8c chromedriver + 4303500\n16  libsystem_pthread.dylib             0x00000001a5a37fa8 _pthread_start + 148\n17  libsystem_pthread.dylib             0x00000001a5a32da0 thread_start + 8\n"
     ]
    }
   ],
   "source": [
    "transform()"
   ]
  },
  {
   "cell_type": "code",
   "execution_count": 12,
   "metadata": {},
   "outputs": [
    {
     "data": {
      "text/plain": [
       "144"
      ]
     },
     "execution_count": 12,
     "metadata": {},
     "output_type": "execute_result"
    }
   ],
   "source": [
    "len(job_description)"
   ]
  },
  {
   "cell_type": "code",
   "execution_count": null,
   "metadata": {},
   "outputs": [],
   "source": [
    "# driver.find_elements(By.CLASS_NAME, \"description__text description__text--rich\")"
   ]
  },
  {
   "cell_type": "code",
   "execution_count": 15,
   "metadata": {},
   "outputs": [
    {
     "data": {
      "text/html": [
       "<div>\n",
       "<style scoped>\n",
       "    .dataframe tbody tr th:only-of-type {\n",
       "        vertical-align: middle;\n",
       "    }\n",
       "\n",
       "    .dataframe tbody tr th {\n",
       "        vertical-align: top;\n",
       "    }\n",
       "\n",
       "    .dataframe thead th {\n",
       "        text-align: right;\n",
       "    }\n",
       "</style>\n",
       "<table border=\"1\" class=\"dataframe\">\n",
       "  <thead>\n",
       "    <tr style=\"text-align: right;\">\n",
       "      <th></th>\n",
       "      <th>Job Level</th>\n",
       "      <th>Job Type</th>\n",
       "      <th>Job Function</th>\n",
       "      <th>Industry</th>\n",
       "      <th>Job Description</th>\n",
       "    </tr>\n",
       "  </thead>\n",
       "  <tbody>\n",
       "    <tr>\n",
       "      <th>0</th>\n",
       "      <td>Tingkat pemula</td>\n",
       "      <td>Penuh waktu</td>\n",
       "      <td>Teknologi Informasi</td>\n",
       "      <td>Teknologi, Informasi, dan Internet</td>\n",
       "      <td>About The Role\\n\\nThe role is Associate Data A...</td>\n",
       "    </tr>\n",
       "    <tr>\n",
       "      <th>1</th>\n",
       "      <td>Tingkat pemula</td>\n",
       "      <td>Penuh waktu</td>\n",
       "      <td>Teknologi Informasi</td>\n",
       "      <td>Teknologi, Informasi, dan Internet</td>\n",
       "      <td>About The Role\\n\\nAs our Data Analyst, you’ll ...</td>\n",
       "    </tr>\n",
       "    <tr>\n",
       "      <th>2</th>\n",
       "      <td>Tingkat pemula</td>\n",
       "      <td>Penuh waktu</td>\n",
       "      <td>Teknologi Informasi</td>\n",
       "      <td>Teknologi, Informasi, dan Internet</td>\n",
       "      <td>The role is Associate Data Analyst (DA) workin...</td>\n",
       "    </tr>\n",
       "    <tr>\n",
       "      <th>3</th>\n",
       "      <td>Tingkat pemula</td>\n",
       "      <td>Penuh waktu</td>\n",
       "      <td>Teknologi Informasi</td>\n",
       "      <td>Teknologi, Informasi, dan Internet</td>\n",
       "      <td>If you’re a data analyst at heart, this role i...</td>\n",
       "    </tr>\n",
       "    <tr>\n",
       "      <th>4</th>\n",
       "      <td>Tingkat pemula</td>\n",
       "      <td>Penuh waktu</td>\n",
       "      <td>Teknologi Informasi</td>\n",
       "      <td>Teknologi, Informasi, dan Internet</td>\n",
       "      <td>The Shared Consumer Platform team at GoTo is i...</td>\n",
       "    </tr>\n",
       "  </tbody>\n",
       "</table>\n",
       "</div>"
      ],
      "text/plain": [
       "        Job Level     Job Type         Job Function  \\\n",
       "0  Tingkat pemula  Penuh waktu  Teknologi Informasi   \n",
       "1  Tingkat pemula  Penuh waktu  Teknologi Informasi   \n",
       "2  Tingkat pemula  Penuh waktu  Teknologi Informasi   \n",
       "3  Tingkat pemula  Penuh waktu  Teknologi Informasi   \n",
       "4  Tingkat pemula  Penuh waktu  Teknologi Informasi   \n",
       "\n",
       "                             Industry  \\\n",
       "0  Teknologi, Informasi, dan Internet   \n",
       "1  Teknologi, Informasi, dan Internet   \n",
       "2  Teknologi, Informasi, dan Internet   \n",
       "3  Teknologi, Informasi, dan Internet   \n",
       "4  Teknologi, Informasi, dan Internet   \n",
       "\n",
       "                                     Job Description  \n",
       "0  About The Role\\n\\nThe role is Associate Data A...  \n",
       "1  About The Role\\n\\nAs our Data Analyst, you’ll ...  \n",
       "2  The role is Associate Data Analyst (DA) workin...  \n",
       "3  If you’re a data analyst at heart, this role i...  \n",
       "4  The Shared Consumer Platform team at GoTo is i...  "
      ]
     },
     "execution_count": 15,
     "metadata": {},
     "output_type": "execute_result"
    }
   ],
   "source": [
    "#create dataframe from the list\n",
    "df = pd.DataFrame(list(zip( job_level, job_type, job_function, industry, job_description)), columns = ['Job Level', 'Job Type', 'Job Function', 'Industry', 'Job Description'])\n"
   ]
  },
  {
   "cell_type": "code",
   "execution_count": 16,
   "metadata": {},
   "outputs": [
    {
     "data": {
      "text/html": [
       "<div>\n",
       "<style scoped>\n",
       "    .dataframe tbody tr th:only-of-type {\n",
       "        vertical-align: middle;\n",
       "    }\n",
       "\n",
       "    .dataframe tbody tr th {\n",
       "        vertical-align: top;\n",
       "    }\n",
       "\n",
       "    .dataframe thead th {\n",
       "        text-align: right;\n",
       "    }\n",
       "</style>\n",
       "<table border=\"1\" class=\"dataframe\">\n",
       "  <thead>\n",
       "    <tr style=\"text-align: right;\">\n",
       "      <th></th>\n",
       "      <th>Job Level</th>\n",
       "      <th>Job Type</th>\n",
       "      <th>Job Function</th>\n",
       "      <th>Industry</th>\n",
       "      <th>Job Description</th>\n",
       "    </tr>\n",
       "  </thead>\n",
       "  <tbody>\n",
       "    <tr>\n",
       "      <th>0</th>\n",
       "      <td>Tingkat pemula</td>\n",
       "      <td>Penuh waktu</td>\n",
       "      <td>Teknologi Informasi</td>\n",
       "      <td>Teknologi, Informasi, dan Internet</td>\n",
       "      <td>About The Role\\n\\nThe role is Associate Data A...</td>\n",
       "    </tr>\n",
       "    <tr>\n",
       "      <th>1</th>\n",
       "      <td>Tingkat pemula</td>\n",
       "      <td>Penuh waktu</td>\n",
       "      <td>Teknologi Informasi</td>\n",
       "      <td>Teknologi, Informasi, dan Internet</td>\n",
       "      <td>About The Role\\n\\nAs our Data Analyst, you’ll ...</td>\n",
       "    </tr>\n",
       "    <tr>\n",
       "      <th>2</th>\n",
       "      <td>Tingkat pemula</td>\n",
       "      <td>Penuh waktu</td>\n",
       "      <td>Teknologi Informasi</td>\n",
       "      <td>Teknologi, Informasi, dan Internet</td>\n",
       "      <td>The role is Associate Data Analyst (DA) workin...</td>\n",
       "    </tr>\n",
       "    <tr>\n",
       "      <th>3</th>\n",
       "      <td>Tingkat pemula</td>\n",
       "      <td>Penuh waktu</td>\n",
       "      <td>Teknologi Informasi</td>\n",
       "      <td>Teknologi, Informasi, dan Internet</td>\n",
       "      <td>If you’re a data analyst at heart, this role i...</td>\n",
       "    </tr>\n",
       "    <tr>\n",
       "      <th>4</th>\n",
       "      <td>Tingkat pemula</td>\n",
       "      <td>Penuh waktu</td>\n",
       "      <td>Teknologi Informasi</td>\n",
       "      <td>Teknologi, Informasi, dan Internet</td>\n",
       "      <td>The Shared Consumer Platform team at GoTo is i...</td>\n",
       "    </tr>\n",
       "  </tbody>\n",
       "</table>\n",
       "</div>"
      ],
      "text/plain": [
       "        Job Level     Job Type         Job Function  \\\n",
       "0  Tingkat pemula  Penuh waktu  Teknologi Informasi   \n",
       "1  Tingkat pemula  Penuh waktu  Teknologi Informasi   \n",
       "2  Tingkat pemula  Penuh waktu  Teknologi Informasi   \n",
       "3  Tingkat pemula  Penuh waktu  Teknologi Informasi   \n",
       "4  Tingkat pemula  Penuh waktu  Teknologi Informasi   \n",
       "\n",
       "                             Industry  \\\n",
       "0  Teknologi, Informasi, dan Internet   \n",
       "1  Teknologi, Informasi, dan Internet   \n",
       "2  Teknologi, Informasi, dan Internet   \n",
       "3  Teknologi, Informasi, dan Internet   \n",
       "4  Teknologi, Informasi, dan Internet   \n",
       "\n",
       "                                     Job Description  \n",
       "0  About The Role\\n\\nThe role is Associate Data A...  \n",
       "1  About The Role\\n\\nAs our Data Analyst, you’ll ...  \n",
       "2  The role is Associate Data Analyst (DA) workin...  \n",
       "3  If you’re a data analyst at heart, this role i...  \n",
       "4  The Shared Consumer Platform team at GoTo is i...  "
      ]
     },
     "execution_count": 16,
     "metadata": {},
     "output_type": "execute_result"
    }
   ],
   "source": [
    "df.head()"
   ]
  },
  {
   "cell_type": "markdown",
   "metadata": {},
   "source": [
    "# 3. Combine with existing job post list "
   ]
  },
  {
   "cell_type": "code",
   "execution_count": 17,
   "metadata": {},
   "outputs": [
    {
     "data": {
      "text/html": [
       "<div>\n",
       "<style scoped>\n",
       "    .dataframe tbody tr th:only-of-type {\n",
       "        vertical-align: middle;\n",
       "    }\n",
       "\n",
       "    .dataframe tbody tr th {\n",
       "        vertical-align: top;\n",
       "    }\n",
       "\n",
       "    .dataframe thead th {\n",
       "        text-align: right;\n",
       "    }\n",
       "</style>\n",
       "<table border=\"1\" class=\"dataframe\">\n",
       "  <thead>\n",
       "    <tr style=\"text-align: right;\">\n",
       "      <th></th>\n",
       "      <th>Unnamed: 0</th>\n",
       "      <th>Job Title</th>\n",
       "      <th>Company Name</th>\n",
       "      <th>Location</th>\n",
       "      <th>Posted Date</th>\n",
       "      <th>Job Link</th>\n",
       "    </tr>\n",
       "  </thead>\n",
       "  <tbody>\n",
       "    <tr>\n",
       "      <th>0</th>\n",
       "      <td>0</td>\n",
       "      <td>Data Analyst - Central Data Platform</td>\n",
       "      <td>Gojek</td>\n",
       "      <td>Jakarta</td>\n",
       "      <td>2023-09-12</td>\n",
       "      <td>https://id.linkedin.com/jobs/view/data-analyst...</td>\n",
       "    </tr>\n",
       "    <tr>\n",
       "      <th>1</th>\n",
       "      <td>1</td>\n",
       "      <td>Data Analyst</td>\n",
       "      <td>Gojek</td>\n",
       "      <td>Jakarta</td>\n",
       "      <td>2023-09-19</td>\n",
       "      <td>https://id.linkedin.com/jobs/view/data-analyst...</td>\n",
       "    </tr>\n",
       "    <tr>\n",
       "      <th>2</th>\n",
       "      <td>2</td>\n",
       "      <td>Data Analyst - Subscription</td>\n",
       "      <td>Gojek</td>\n",
       "      <td>Jakarta</td>\n",
       "      <td>2023-09-19</td>\n",
       "      <td>https://id.linkedin.com/jobs/view/data-analyst...</td>\n",
       "    </tr>\n",
       "    <tr>\n",
       "      <th>3</th>\n",
       "      <td>3</td>\n",
       "      <td>Data Analyst - Transport (Jakarta)</td>\n",
       "      <td>Gojek</td>\n",
       "      <td>Jakarta</td>\n",
       "      <td>2023-09-13</td>\n",
       "      <td>https://id.linkedin.com/jobs/view/data-analyst...</td>\n",
       "    </tr>\n",
       "    <tr>\n",
       "      <th>4</th>\n",
       "      <td>4</td>\n",
       "      <td>Data Analyst - Campaign Management</td>\n",
       "      <td>Gojek</td>\n",
       "      <td>Jakarta</td>\n",
       "      <td>2023-09-26</td>\n",
       "      <td>https://id.linkedin.com/jobs/view/data-analyst...</td>\n",
       "    </tr>\n",
       "  </tbody>\n",
       "</table>\n",
       "</div>"
      ],
      "text/plain": [
       "   Unnamed: 0                             Job Title Company Name Location  \\\n",
       "0           0  Data Analyst - Central Data Platform        Gojek  Jakarta   \n",
       "1           1                          Data Analyst        Gojek  Jakarta   \n",
       "2           2           Data Analyst - Subscription        Gojek  Jakarta   \n",
       "3           3    Data Analyst - Transport (Jakarta)        Gojek  Jakarta   \n",
       "4           4    Data Analyst - Campaign Management        Gojek  Jakarta   \n",
       "\n",
       "  Posted Date                                           Job Link  \n",
       "0  2023-09-12  https://id.linkedin.com/jobs/view/data-analyst...  \n",
       "1  2023-09-19  https://id.linkedin.com/jobs/view/data-analyst...  \n",
       "2  2023-09-19  https://id.linkedin.com/jobs/view/data-analyst...  \n",
       "3  2023-09-13  https://id.linkedin.com/jobs/view/data-analyst...  \n",
       "4  2023-09-26  https://id.linkedin.com/jobs/view/data-analyst...  "
      ]
     },
     "execution_count": 17,
     "metadata": {},
     "output_type": "execute_result"
    }
   ],
   "source": [
    "#Import job list\n",
    "dfList = pd.read_csv('linkedin_jobpost.csv')\n",
    "dfList.head()"
   ]
  },
  {
   "cell_type": "code",
   "execution_count": 18,
   "metadata": {},
   "outputs": [
    {
     "data": {
      "text/html": [
       "<div>\n",
       "<style scoped>\n",
       "    .dataframe tbody tr th:only-of-type {\n",
       "        vertical-align: middle;\n",
       "    }\n",
       "\n",
       "    .dataframe tbody tr th {\n",
       "        vertical-align: top;\n",
       "    }\n",
       "\n",
       "    .dataframe thead th {\n",
       "        text-align: right;\n",
       "    }\n",
       "</style>\n",
       "<table border=\"1\" class=\"dataframe\">\n",
       "  <thead>\n",
       "    <tr style=\"text-align: right;\">\n",
       "      <th></th>\n",
       "      <th>Unnamed: 0</th>\n",
       "      <th>Job Title</th>\n",
       "      <th>Company Name</th>\n",
       "      <th>Location</th>\n",
       "      <th>Posted Date</th>\n",
       "      <th>Job Link</th>\n",
       "      <th>Job Level</th>\n",
       "      <th>Job Type</th>\n",
       "      <th>Job Function</th>\n",
       "      <th>Industry</th>\n",
       "      <th>Job Description</th>\n",
       "    </tr>\n",
       "  </thead>\n",
       "  <tbody>\n",
       "    <tr>\n",
       "      <th>0</th>\n",
       "      <td>0</td>\n",
       "      <td>Data Analyst - Central Data Platform</td>\n",
       "      <td>Gojek</td>\n",
       "      <td>Jakarta</td>\n",
       "      <td>2023-09-12</td>\n",
       "      <td>https://id.linkedin.com/jobs/view/data-analyst...</td>\n",
       "      <td>Tingkat pemula</td>\n",
       "      <td>Penuh waktu</td>\n",
       "      <td>Teknologi Informasi</td>\n",
       "      <td>Teknologi, Informasi, dan Internet</td>\n",
       "      <td>About The Role\\n\\nThe role is Associate Data A...</td>\n",
       "    </tr>\n",
       "    <tr>\n",
       "      <th>1</th>\n",
       "      <td>1</td>\n",
       "      <td>Data Analyst</td>\n",
       "      <td>Gojek</td>\n",
       "      <td>Jakarta</td>\n",
       "      <td>2023-09-19</td>\n",
       "      <td>https://id.linkedin.com/jobs/view/data-analyst...</td>\n",
       "      <td>Tingkat pemula</td>\n",
       "      <td>Penuh waktu</td>\n",
       "      <td>Teknologi Informasi</td>\n",
       "      <td>Teknologi, Informasi, dan Internet</td>\n",
       "      <td>About The Role\\n\\nAs our Data Analyst, you’ll ...</td>\n",
       "    </tr>\n",
       "    <tr>\n",
       "      <th>2</th>\n",
       "      <td>2</td>\n",
       "      <td>Data Analyst - Subscription</td>\n",
       "      <td>Gojek</td>\n",
       "      <td>Jakarta</td>\n",
       "      <td>2023-09-19</td>\n",
       "      <td>https://id.linkedin.com/jobs/view/data-analyst...</td>\n",
       "      <td>Tingkat pemula</td>\n",
       "      <td>Penuh waktu</td>\n",
       "      <td>Teknologi Informasi</td>\n",
       "      <td>Teknologi, Informasi, dan Internet</td>\n",
       "      <td>The role is Associate Data Analyst (DA) workin...</td>\n",
       "    </tr>\n",
       "    <tr>\n",
       "      <th>3</th>\n",
       "      <td>3</td>\n",
       "      <td>Data Analyst - Transport (Jakarta)</td>\n",
       "      <td>Gojek</td>\n",
       "      <td>Jakarta</td>\n",
       "      <td>2023-09-13</td>\n",
       "      <td>https://id.linkedin.com/jobs/view/data-analyst...</td>\n",
       "      <td>Tingkat pemula</td>\n",
       "      <td>Penuh waktu</td>\n",
       "      <td>Teknologi Informasi</td>\n",
       "      <td>Teknologi, Informasi, dan Internet</td>\n",
       "      <td>If you’re a data analyst at heart, this role i...</td>\n",
       "    </tr>\n",
       "    <tr>\n",
       "      <th>4</th>\n",
       "      <td>4</td>\n",
       "      <td>Data Analyst - Campaign Management</td>\n",
       "      <td>Gojek</td>\n",
       "      <td>Jakarta</td>\n",
       "      <td>2023-09-26</td>\n",
       "      <td>https://id.linkedin.com/jobs/view/data-analyst...</td>\n",
       "      <td>Tingkat pemula</td>\n",
       "      <td>Penuh waktu</td>\n",
       "      <td>Teknologi Informasi</td>\n",
       "      <td>Teknologi, Informasi, dan Internet</td>\n",
       "      <td>The Shared Consumer Platform team at GoTo is i...</td>\n",
       "    </tr>\n",
       "  </tbody>\n",
       "</table>\n",
       "</div>"
      ],
      "text/plain": [
       "   Unnamed: 0                             Job Title Company Name Location  \\\n",
       "0           0  Data Analyst - Central Data Platform        Gojek  Jakarta   \n",
       "1           1                          Data Analyst        Gojek  Jakarta   \n",
       "2           2           Data Analyst - Subscription        Gojek  Jakarta   \n",
       "3           3    Data Analyst - Transport (Jakarta)        Gojek  Jakarta   \n",
       "4           4    Data Analyst - Campaign Management        Gojek  Jakarta   \n",
       "\n",
       "  Posted Date                                           Job Link  \\\n",
       "0  2023-09-12  https://id.linkedin.com/jobs/view/data-analyst...   \n",
       "1  2023-09-19  https://id.linkedin.com/jobs/view/data-analyst...   \n",
       "2  2023-09-19  https://id.linkedin.com/jobs/view/data-analyst...   \n",
       "3  2023-09-13  https://id.linkedin.com/jobs/view/data-analyst...   \n",
       "4  2023-09-26  https://id.linkedin.com/jobs/view/data-analyst...   \n",
       "\n",
       "        Job Level     Job Type         Job Function  \\\n",
       "0  Tingkat pemula  Penuh waktu  Teknologi Informasi   \n",
       "1  Tingkat pemula  Penuh waktu  Teknologi Informasi   \n",
       "2  Tingkat pemula  Penuh waktu  Teknologi Informasi   \n",
       "3  Tingkat pemula  Penuh waktu  Teknologi Informasi   \n",
       "4  Tingkat pemula  Penuh waktu  Teknologi Informasi   \n",
       "\n",
       "                             Industry  \\\n",
       "0  Teknologi, Informasi, dan Internet   \n",
       "1  Teknologi, Informasi, dan Internet   \n",
       "2  Teknologi, Informasi, dan Internet   \n",
       "3  Teknologi, Informasi, dan Internet   \n",
       "4  Teknologi, Informasi, dan Internet   \n",
       "\n",
       "                                     Job Description  \n",
       "0  About The Role\\n\\nThe role is Associate Data A...  \n",
       "1  About The Role\\n\\nAs our Data Analyst, you’ll ...  \n",
       "2  The role is Associate Data Analyst (DA) workin...  \n",
       "3  If you’re a data analyst at heart, this role i...  \n",
       "4  The Shared Consumer Platform team at GoTo is i...  "
      ]
     },
     "execution_count": 18,
     "metadata": {},
     "output_type": "execute_result"
    }
   ],
   "source": [
    "#merge the dataframe df with dfList\n",
    "df = pd.concat([dfList, df], axis=1)\n",
    "df.head()"
   ]
  },
  {
   "cell_type": "code",
   "execution_count": 19,
   "metadata": {},
   "outputs": [
    {
     "data": {
      "text/plain": [
       "Unnamed: 0                                                        12\n",
       "Job Title                                               Data Analyst\n",
       "Company Name                                   Kelola Talenta Global\n",
       "Location                                            Area DKI Jakarta\n",
       "Posted Date                                               2023-09-29\n",
       "Job Link           https://id.linkedin.com/jobs/view/data-analyst...\n",
       "Job Level                                             Tingkat pemula\n",
       "Job Type                                                 Penuh waktu\n",
       "Job Function                                     Teknologi Informasi\n",
       "Industry                          Teknologi, Informasi, dan Internet\n",
       "Job Description    Our Client is looking for a Data Analyst to jo...\n",
       "Name: 12, dtype: object"
      ]
     },
     "execution_count": 19,
     "metadata": {},
     "output_type": "execute_result"
    }
   ],
   "source": [
    "df.iloc[12]"
   ]
  },
  {
   "cell_type": "code",
   "execution_count": 20,
   "metadata": {},
   "outputs": [
    {
     "name": "stdout",
     "output_type": "stream",
     "text": [
      "<class 'pandas.core.frame.DataFrame'>\n",
      "RangeIndex: 200 entries, 0 to 199\n",
      "Data columns (total 11 columns):\n",
      " #   Column           Non-Null Count  Dtype \n",
      "---  ------           --------------  ----- \n",
      " 0   Unnamed: 0       200 non-null    int64 \n",
      " 1   Job Title        200 non-null    object\n",
      " 2   Company Name     200 non-null    object\n",
      " 3   Location         200 non-null    object\n",
      " 4   Posted Date      200 non-null    object\n",
      " 5   Job Link         200 non-null    object\n",
      " 6   Job Level        143 non-null    object\n",
      " 7   Job Type         144 non-null    object\n",
      " 8   Job Function     144 non-null    object\n",
      " 9   Industry         144 non-null    object\n",
      " 10  Job Description  144 non-null    object\n",
      "dtypes: int64(1), object(10)\n",
      "memory usage: 17.3+ KB\n"
     ]
    }
   ],
   "source": [
    "df.info()"
   ]
  },
  {
   "cell_type": "code",
   "execution_count": null,
   "metadata": {},
   "outputs": [],
   "source": [
    "\n",
    "\n",
    "#Extract job title and company name using regex\n",
    "# exclude \" membuka lowongan\" \n",
    "# company_name = re.findall(r'(.*) membuka lowongan', driver.title)\n",
    "# job_name = re.findall(r' lowongan (.*) di', driver.title)\n",
    "# location = re.findall(r' di (.*) \\|', driver.title)\n",
    "\n"
   ]
  },
  {
   "cell_type": "code",
   "execution_count": 22,
   "metadata": {},
   "outputs": [],
   "source": [
    "df.drop(columns=['Job Link'], inplace=True)"
   ]
  },
  {
   "cell_type": "code",
   "execution_count": 23,
   "metadata": {},
   "outputs": [
    {
     "name": "stdout",
     "output_type": "stream",
     "text": [
      "<class 'pandas.core.frame.DataFrame'>\n",
      "RangeIndex: 200 entries, 0 to 199\n",
      "Data columns (total 10 columns):\n",
      " #   Column           Non-Null Count  Dtype \n",
      "---  ------           --------------  ----- \n",
      " 0   Unnamed: 0       200 non-null    int64 \n",
      " 1   Job Title        200 non-null    object\n",
      " 2   Company Name     200 non-null    object\n",
      " 3   Location         200 non-null    object\n",
      " 4   Posted Date      200 non-null    object\n",
      " 5   Job Level        143 non-null    object\n",
      " 6   Job Type         144 non-null    object\n",
      " 7   Job Function     144 non-null    object\n",
      " 8   Industry         144 non-null    object\n",
      " 9   Job Description  144 non-null    object\n",
      "dtypes: int64(1), object(9)\n",
      "memory usage: 15.8+ KB\n"
     ]
    }
   ],
   "source": [
    "df.info()"
   ]
  },
  {
   "cell_type": "markdown",
   "metadata": {},
   "source": [
    "# Write output to CSV"
   ]
  },
  {
   "cell_type": "code",
   "execution_count": 24,
   "metadata": {},
   "outputs": [],
   "source": [
    "#Write output to csv file\n",
    "\n",
    "df.to_csv('linkedin_jobdetails.csv', index=False)"
   ]
  }
 ],
 "metadata": {
  "kernelspec": {
   "display_name": ".venv",
   "language": "python",
   "name": "python3"
  },
  "language_info": {
   "codemirror_mode": {
    "name": "ipython",
    "version": 3
   },
   "file_extension": ".py",
   "mimetype": "text/x-python",
   "name": "python",
   "nbconvert_exporter": "python",
   "pygments_lexer": "ipython3",
   "version": "3.11.4"
  },
  "orig_nbformat": 4
 },
 "nbformat": 4,
 "nbformat_minor": 2
}
