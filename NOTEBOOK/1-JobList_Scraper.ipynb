{
 "cells": [
  {
   "cell_type": "markdown",
   "metadata": {},
   "source": [
    "## Web Scraping LinkedIn using Selenium"
   ]
  },
  {
   "cell_type": "code",
   "execution_count": 1,
   "metadata": {},
   "outputs": [],
   "source": [
    "from selenium import webdriver\n",
    "import time\n",
    "import pandas as pd\n",
    "import time"
   ]
  },
  {
   "cell_type": "code",
   "execution_count": 2,
   "metadata": {},
   "outputs": [],
   "source": [
    "#Url from LinkedIn, Look for Data Analyst job in Jakarta Area\n",
    "url = \"https://id.linkedin.com/jobs/search?keywords=Data%20Analyst&location=Area%20DKI%20Jakarta&geoId=90010101&trk=public_jobs_jobs-search-bar_search-submit&position=1&pageNum=0\""
   ]
  },
  {
   "cell_type": "code",
   "execution_count": 3,
   "metadata": {},
   "outputs": [],
   "source": [
    "# url = \"https://id.linkedin.com/jobs/data-analyst-jobs?position=1&pageNum=0\""
   ]
  },
  {
   "cell_type": "code",
   "execution_count": 4,
   "metadata": {},
   "outputs": [],
   "source": [
    "import requests\n",
    "from bs4 import BeautifulSoup"
   ]
  },
  {
   "cell_type": "code",
   "execution_count": 5,
   "metadata": {},
   "outputs": [],
   "source": [
    "#Import Packages\n",
    "\n",
    "from selenium.webdriver.support.select import Select\n",
    "from selenium.webdriver.support.ui import WebDriverWait\n",
    "from selenium.webdriver.common.by import By\n",
    "from selenium.webdriver.common.keys import Keys\n",
    "from selenium.webdriver.support import expected_conditions as EC\n"
   ]
  },
  {
   "cell_type": "code",
   "execution_count": 6,
   "metadata": {},
   "outputs": [],
   "source": [
    "from selenium.webdriver.common.by import By"
   ]
  },
  {
   "cell_type": "code",
   "execution_count": 7,
   "metadata": {},
   "outputs": [],
   "source": [
    "from lxml import html"
   ]
  },
  {
   "cell_type": "code",
   "execution_count": 8,
   "metadata": {},
   "outputs": [],
   "source": [
    "#Run the driver and open the url\n",
    "driver = webdriver.Chrome()\n",
    "driver.get(url)\n",
    "time.sleep(5)"
   ]
  },
  {
   "cell_type": "code",
   "execution_count": 9,
   "metadata": {},
   "outputs": [],
   "source": [
    "# Find the element that contains the class name\n",
    "results_header = driver.find_element(By.CLASS_NAME, \"results-context-header\")\n",
    "\n",
    "# Find the element with the specific class name within the results header\n",
    "n = results_header.find_element(By.CLASS_NAME, \"results-context-header__job-count\").text\n"
   ]
  },
  {
   "cell_type": "code",
   "execution_count": 10,
   "metadata": {},
   "outputs": [],
   "source": [
    "# Convert the string to an integer\n",
    "n = int(n.replace(\".\",\"\"))"
   ]
  },
  {
   "cell_type": "code",
   "execution_count": 11,
   "metadata": {},
   "outputs": [
    {
     "data": {
      "text/plain": [
       "1000"
      ]
     },
     "execution_count": 11,
     "metadata": {},
     "output_type": "execute_result"
    }
   ],
   "source": [
    "n  "
   ]
  },
  {
   "cell_type": "code",
   "execution_count": 12,
   "metadata": {},
   "outputs": [],
   "source": [
    "#Scroll through page to load all the job postings\n",
    "i = 2\n",
    "# while i <= n/25:\n",
    "while i <= 100:\n",
    "    driver.execute_script(\"window.scrollTo(0, document.body.scrollHeight);\")\n",
    "    time.sleep(5)\n",
    "    i += 1\n",
    "    \n",
    "    #click on load more button to load all the job postings\n",
    "    try:\n",
    "        load_more_button = driver.find_element(By.XPATH, '//button[@aria-label=\"Lihat pekerjaan lainnya\"]')\n",
    "        load_more_button.click()\n",
    "        time.sleep(3)\n",
    "    except:\n",
    "        pass\n",
    "        time.sleep(3)\n",
    "        "
   ]
  },
  {
   "cell_type": "code",
   "execution_count": 13,
   "metadata": {},
   "outputs": [],
   "source": [
    "jobpost_id = []\n",
    "job_title = []\n",
    "company_name = []\n",
    "location = []\n",
    "posted_date = []\n",
    "\n",
    "job_description = []\n",
    "def transform():\n",
    "    global n\n",
    "    \n",
    "    for i in range(200):\n",
    "        try:\n",
    "            #Extract job title from the element\n",
    "            job = driver.find_elements(By.CLASS_NAME, \"base-search-card__title\")[i].text\n",
    "            job_title.append(job)    \n",
    "            #Extract company name from the element\n",
    "            company = driver.find_elements(By.CLASS_NAME, \"base-search-card__subtitle\")[i].text\n",
    "            company_name.append(company)\n",
    "            #Extract location from the element\n",
    "            loc = driver.find_elements(By.CLASS_NAME, \"job-search-card__location\")[i].text\n",
    "            location.append(loc)\n",
    "            #Extract datetime from the element\n",
    "            date = driver.find_elements(By.CLASS_NAME, \"job-search-card__listdate\")[i].get_attribute(\"datetime\")\n",
    "            posted_date.append(date)\n",
    "            # id = driver.find_elements(By.PARTIAL_LINK_TEXT, \"base-card\")[i].get_attribute(\"data-id\")\n",
    "            # id = driver.find_elements(By.CLASS_NAME, \"base-card relative\")[i].get_attribute(\"data-entity-urn\")\n",
    "            # id = driver.find_elements(By.TAG_NAME, \"a\")[i].get_attribute(\"href\")\n",
    "            id = driver.find_elements(By.CLASS_NAME, \"base-card__full-link\")[i].get_attribute(\"href\")\n",
    "            jobpost_id.append(id)\n",
    "        except IndexError:\n",
    "            job_title.append(None)\n",
    "            company_name.append(None)\n",
    "            location.append(None)\n",
    "            posted_date.append(None)\n",
    "            print(\"DONE\")\n",
    "    return \n",
    "    # return job_title, company_name, location, job_description"
   ]
  },
  {
   "cell_type": "code",
   "execution_count": 14,
   "metadata": {},
   "outputs": [],
   "source": [
    "transform()"
   ]
  },
  {
   "cell_type": "code",
   "execution_count": 15,
   "metadata": {},
   "outputs": [],
   "source": [
    "#join job_title, company_name, location, posted_date into a dataframe\n",
    "df = pd.DataFrame(list(zip(job_title, company_name, location, posted_date, jobpost_id)), \n",
    "               columns =['Job Title', 'Company Name', 'Location', 'Posted Date', 'Job Link'])\n"
   ]
  },
  {
   "cell_type": "code",
   "execution_count": 16,
   "metadata": {},
   "outputs": [
    {
     "data": {
      "text/html": [
       "<div>\n",
       "<style scoped>\n",
       "    .dataframe tbody tr th:only-of-type {\n",
       "        vertical-align: middle;\n",
       "    }\n",
       "\n",
       "    .dataframe tbody tr th {\n",
       "        vertical-align: top;\n",
       "    }\n",
       "\n",
       "    .dataframe thead th {\n",
       "        text-align: right;\n",
       "    }\n",
       "</style>\n",
       "<table border=\"1\" class=\"dataframe\">\n",
       "  <thead>\n",
       "    <tr style=\"text-align: right;\">\n",
       "      <th></th>\n",
       "      <th>Job Title</th>\n",
       "      <th>Company Name</th>\n",
       "      <th>Location</th>\n",
       "      <th>Posted Date</th>\n",
       "      <th>Job Link</th>\n",
       "    </tr>\n",
       "  </thead>\n",
       "  <tbody>\n",
       "    <tr>\n",
       "      <th>0</th>\n",
       "      <td>Data Analyst - Central Data Platform</td>\n",
       "      <td>Gojek</td>\n",
       "      <td>Jakarta</td>\n",
       "      <td>2023-09-12</td>\n",
       "      <td>https://id.linkedin.com/jobs/view/data-analyst...</td>\n",
       "    </tr>\n",
       "    <tr>\n",
       "      <th>1</th>\n",
       "      <td>Data Analyst</td>\n",
       "      <td>Gojek</td>\n",
       "      <td>Jakarta</td>\n",
       "      <td>2023-09-19</td>\n",
       "      <td>https://id.linkedin.com/jobs/view/data-analyst...</td>\n",
       "    </tr>\n",
       "    <tr>\n",
       "      <th>2</th>\n",
       "      <td>Data Analyst - Subscription</td>\n",
       "      <td>Gojek</td>\n",
       "      <td>Jakarta</td>\n",
       "      <td>2023-09-19</td>\n",
       "      <td>https://id.linkedin.com/jobs/view/data-analyst...</td>\n",
       "    </tr>\n",
       "    <tr>\n",
       "      <th>3</th>\n",
       "      <td>Data Analyst - Transport (Jakarta)</td>\n",
       "      <td>Gojek</td>\n",
       "      <td>Jakarta</td>\n",
       "      <td>2023-09-13</td>\n",
       "      <td>https://id.linkedin.com/jobs/view/data-analyst...</td>\n",
       "    </tr>\n",
       "    <tr>\n",
       "      <th>4</th>\n",
       "      <td>Data Analyst - Campaign Management</td>\n",
       "      <td>Gojek</td>\n",
       "      <td>Jakarta</td>\n",
       "      <td>2023-09-26</td>\n",
       "      <td>https://id.linkedin.com/jobs/view/data-analyst...</td>\n",
       "    </tr>\n",
       "    <tr>\n",
       "      <th>...</th>\n",
       "      <td>...</td>\n",
       "      <td>...</td>\n",
       "      <td>...</td>\n",
       "      <td>...</td>\n",
       "      <td>...</td>\n",
       "    </tr>\n",
       "    <tr>\n",
       "      <th>195</th>\n",
       "      <td>IT Engineer</td>\n",
       "      <td>Michelin</td>\n",
       "      <td>Bekasi</td>\n",
       "      <td>2023-06-22</td>\n",
       "      <td>https://id.linkedin.com/jobs/view/data-enginee...</td>\n",
       "    </tr>\n",
       "    <tr>\n",
       "      <th>196</th>\n",
       "      <td>System Integrator</td>\n",
       "      <td>Mekari</td>\n",
       "      <td>Jakarta</td>\n",
       "      <td>2023-09-13</td>\n",
       "      <td>https://id.linkedin.com/jobs/view/ms-engineer-...</td>\n",
       "    </tr>\n",
       "    <tr>\n",
       "      <th>197</th>\n",
       "      <td>Security Engineer</td>\n",
       "      <td>Packet Systems Indonesia</td>\n",
       "      <td>Jakarta</td>\n",
       "      <td>2023-09-28</td>\n",
       "      <td>https://id.linkedin.com/jobs/view/security-eng...</td>\n",
       "    </tr>\n",
       "    <tr>\n",
       "      <th>198</th>\n",
       "      <td>Cloud Data Engineer</td>\n",
       "      <td>ilmuOne Data</td>\n",
       "      <td>Area DKI Jakarta</td>\n",
       "      <td>2023-08-09</td>\n",
       "      <td>https://id.linkedin.com/jobs/view/powerbuilder...</td>\n",
       "    </tr>\n",
       "    <tr>\n",
       "      <th>199</th>\n",
       "      <td>MS Engineer</td>\n",
       "      <td>NTT Ltd.</td>\n",
       "      <td>Jakarta</td>\n",
       "      <td>2023-09-23</td>\n",
       "      <td>https://id.linkedin.com/jobs/view/crm-internsh...</td>\n",
       "    </tr>\n",
       "  </tbody>\n",
       "</table>\n",
       "<p>200 rows × 5 columns</p>\n",
       "</div>"
      ],
      "text/plain": [
       "                                Job Title              Company Name  \\\n",
       "0    Data Analyst - Central Data Platform                     Gojek   \n",
       "1                            Data Analyst                     Gojek   \n",
       "2             Data Analyst - Subscription                     Gojek   \n",
       "3      Data Analyst - Transport (Jakarta)                     Gojek   \n",
       "4      Data Analyst - Campaign Management                     Gojek   \n",
       "..                                    ...                       ...   \n",
       "195                           IT Engineer                  Michelin   \n",
       "196                     System Integrator                    Mekari   \n",
       "197                     Security Engineer  Packet Systems Indonesia   \n",
       "198                   Cloud Data Engineer              ilmuOne Data   \n",
       "199                           MS Engineer                  NTT Ltd.   \n",
       "\n",
       "             Location Posted Date  \\\n",
       "0             Jakarta  2023-09-12   \n",
       "1             Jakarta  2023-09-19   \n",
       "2             Jakarta  2023-09-19   \n",
       "3             Jakarta  2023-09-13   \n",
       "4             Jakarta  2023-09-26   \n",
       "..                ...         ...   \n",
       "195            Bekasi  2023-06-22   \n",
       "196           Jakarta  2023-09-13   \n",
       "197           Jakarta  2023-09-28   \n",
       "198  Area DKI Jakarta  2023-08-09   \n",
       "199           Jakarta  2023-09-23   \n",
       "\n",
       "                                              Job Link  \n",
       "0    https://id.linkedin.com/jobs/view/data-analyst...  \n",
       "1    https://id.linkedin.com/jobs/view/data-analyst...  \n",
       "2    https://id.linkedin.com/jobs/view/data-analyst...  \n",
       "3    https://id.linkedin.com/jobs/view/data-analyst...  \n",
       "4    https://id.linkedin.com/jobs/view/data-analyst...  \n",
       "..                                                 ...  \n",
       "195  https://id.linkedin.com/jobs/view/data-enginee...  \n",
       "196  https://id.linkedin.com/jobs/view/ms-engineer-...  \n",
       "197  https://id.linkedin.com/jobs/view/security-eng...  \n",
       "198  https://id.linkedin.com/jobs/view/powerbuilder...  \n",
       "199  https://id.linkedin.com/jobs/view/crm-internsh...  \n",
       "\n",
       "[200 rows x 5 columns]"
      ]
     },
     "execution_count": 16,
     "metadata": {},
     "output_type": "execute_result"
    }
   ],
   "source": [
    "df"
   ]
  },
  {
   "cell_type": "code",
   "execution_count": 17,
   "metadata": {},
   "outputs": [],
   "source": [
    "df.to_csv('linkedin_jobpost.csv', index=True)"
   ]
  },
  {
   "cell_type": "code",
   "execution_count": 18,
   "metadata": {},
   "outputs": [
    {
     "data": {
      "text/plain": [
       "Company Name\n",
       "Gojek                                 13\n",
       "Traveloka                             11\n",
       "Michael Page                          10\n",
       "PT Bank Mayapada Internasional Tbk     6\n",
       "NTT Ltd.                               6\n",
       "byOrange                               5\n",
       "Staffinc Group                         4\n",
       "VLink Inc                              3\n",
       "JULO                                   3\n",
       "Shopee                                 3\n",
       "Name: count, dtype: int64"
      ]
     },
     "execution_count": 18,
     "metadata": {},
     "output_type": "execute_result"
    }
   ],
   "source": [
    "df['Company Name'].value_counts().head(10)"
   ]
  },
  {
   "cell_type": "code",
   "execution_count": 19,
   "metadata": {},
   "outputs": [
    {
     "data": {
      "text/plain": [
       "200"
      ]
     },
     "execution_count": 19,
     "metadata": {},
     "output_type": "execute_result"
    }
   ],
   "source": [
    "len(df)"
   ]
  },
  {
   "cell_type": "code",
   "execution_count": 23,
   "metadata": {},
   "outputs": [],
   "source": [
    "driver.quit()"
   ]
  },
  {
   "cell_type": "code",
   "execution_count": 20,
   "metadata": {},
   "outputs": [],
   "source": [
    "# jd = []\n",
    "# seniority = []\n",
    "# emp_type = []\n",
    "# job_func = []\n",
    "# industries = []\n",
    "\n",
    "\n",
    "# job_level = []\n",
    "# job_type = []\n",
    "# job_function = []\n",
    "# industry = []\n",
    "# job_description = []\n",
    "\n",
    "\n",
    "\n",
    "# for item in range(1,len(df)):\n",
    "#     job_func0=[]\n",
    "#     industries0=[]\n",
    "#     # clicking job to view job details\n",
    "#     job_click_path = f'//*[@id=\"main-content\"]/section[2]/ul/li[{item}]/div/a'\n",
    "#     # job_click = driver.find_element_by_xpath(job_click_path).click()\n",
    "#     job_click = driver.find_element(By.XPATH, job_click_path).click()\n",
    "#     time.sleep(8)\n",
    "\n",
    "    \n",
    "#     try:\n",
    "#         #Extract job level from the element\n",
    "#         info_element_list = driver.find_elements(By.CLASS_NAME, \"description__job-criteria-item\")\n",
    "#         for i in range(len(info_element_list)):\n",
    "#             job_level.append(info_element_list[0].text)\n",
    "#             job_type.append(info_element_list[1].text)\n",
    "#             job_function.append(info_element_list[2].text)\n",
    "#             industry.append(info_element_list[3].text)\n",
    "#         #Extract job description from the element\n",
    "#         jd_path = '/html/body/div[1]/div/section/div[2]/div/section[1]/div/div/section/div'\n",
    "#         jd0 = driver.find_element(By.XPATH, jd_path).get_attribute('innerText')\n",
    "#         jd.append(jd0)\n",
    "        \n",
    "            \n",
    "#     # seniority_path = '/html/body/main/section/div[2]/section[2]/ul/li[1]/span'\n",
    "#     # seniority0 = driver.find_element(By.XPATH, seniority_path).get_attribute('innerText')\n",
    "#     # seniority.append(seniority0)\n",
    "\n",
    "#     # emp_type_path = '/html/body/main/section/div[2]/section[2]/ul/li[2]/span'\n",
    "#     # emp_type0 = driver.find_element_by_xpath(emp_type_path).get_attribute('innerText')\n",
    "#     # emp_type.append(emp_type0)\n",
    "\n",
    "#     # job_func_path = '/html/body/main/section/div[2]/section[2]/ul/li[3]/span'\n",
    "#     # job_func_elements = driver.find_elements_by_xpath(job_func_path)\n",
    "\n",
    "#     # for element in job_func_elements:\n",
    "#     #     job_func0.append(element.get_attribute('innerText'))\n",
    "#     # job_func_final = ', '.join(job_func0)\n",
    "#     # job_func.append(job_func_final)\n",
    "    \n",
    "#     # industries_path = '/html/body/main/section/div[2]/section[2]/ul/li[4]/span'\n",
    "#     # industries_elements = driver.find_elements_by_xpath(industries_path)\n",
    "\n",
    "#     # for element in industries_elements:\n",
    "#     #     industries0.append(element.get_attribute('innerText'))\n",
    "        \n",
    "#     # industries_final = ', '.join(industries0)\n",
    "#     # industries.append(industries_final)\n",
    "#     except :\n",
    "#         job_level.append(None)\n",
    "#         job_type.append(None)\n",
    "#         job_function.append(None)\n",
    "#         industry.append(None)\n",
    "#         print(\"DONE\")\n"
   ]
  },
  {
   "cell_type": "code",
   "execution_count": 21,
   "metadata": {},
   "outputs": [],
   "source": [
    "# //*[@id=\"main-content\"]/section[2]/ul/li[24]/div/a"
   ]
  },
  {
   "cell_type": "code",
   "execution_count": 22,
   "metadata": {},
   "outputs": [],
   "source": [
    "# //*[@id=\"main-content\"]/section[2]/ul/li[26]/div/a"
   ]
  }
 ],
 "metadata": {
  "kernelspec": {
   "display_name": ".venv",
   "language": "python",
   "name": "python3"
  },
  "language_info": {
   "codemirror_mode": {
    "name": "ipython",
    "version": 3
   },
   "file_extension": ".py",
   "mimetype": "text/x-python",
   "name": "python",
   "nbconvert_exporter": "python",
   "pygments_lexer": "ipython3",
   "version": "3.11.4"
  },
  "orig_nbformat": 4
 },
 "nbformat": 4,
 "nbformat_minor": 2
}
